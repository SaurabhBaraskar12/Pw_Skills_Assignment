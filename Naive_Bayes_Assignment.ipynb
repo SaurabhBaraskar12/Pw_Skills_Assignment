{
 "cells": [
  {
   "cell_type": "markdown",
   "id": "98d1a078",
   "metadata": {},
   "source": [
    "#  Naive Bayes Assignment\n"
   ]
  },
  {
   "cell_type": "markdown",
   "id": "ec0c199c",
   "metadata": {},
   "source": [
    "Q1. What is Bayes' theorem?"
   ]
  },
  {
   "cell_type": "markdown",
   "id": "030040c9",
   "metadata": {},
   "source": [
    "Bayes' theorem is used in various fields, including statistics, machine learning, and artificial intelligence, to make predictions and infer unknown information based on available evidence.\n"
   ]
  },
  {
   "cell_type": "markdown",
   "id": "b5a9acf4",
   "metadata": {},
   "source": [
    "Q2. What is the formula for Bayes' theorem?"
   ]
  },
  {
   "cell_type": "markdown",
   "id": "5724fd14",
   "metadata": {},
   "source": [
    "Bayes' theorem is expressed mathematically as:\n",
    "\n",
    "�\n",
    "(\n",
    "�\n",
    "∣\n",
    "�\n",
    ")\n",
    "=\n",
    "�\n",
    "(\n",
    "�\n",
    "∣\n",
    "�\n",
    ")\n",
    "×\n",
    "�\n",
    "(\n",
    "�\n",
    ")\n",
    "�\n",
    "(\n",
    "�\n",
    ")\n",
    "P(A∣B)= \n",
    "P(B)\n",
    "P(B∣A)×P(A)\n",
    "​\n"
   ]
  },
  {
   "cell_type": "markdown",
   "id": "585a271b",
   "metadata": {},
   "source": [
    "\\Q3. How is Bayes' theorem used in practice?"
   ]
  },
  {
   "cell_type": "markdown",
   "id": "31df15a1",
   "metadata": {},
   "source": [
    "\n",
    "Bayes' theorem is used to update beliefs or probabilities based on new evidence. It's applied in medical diagnosis, spam filtering, machine learning, risk assessment, and scientific research to make predictions and decisions.\n",
    "\n",
    "\n",
    "\n",
    "\n",
    "\n"
   ]
  },
  {
   "cell_type": "markdown",
   "id": "735e048b",
   "metadata": {},
   "source": [
    "Q4. What is the relationship between Bayes' theorem and conditional probability?"
   ]
  },
  {
   "cell_type": "markdown",
   "id": "85d68e43",
   "metadata": {},
   "source": [
    "\n",
    "Bayes' theorem is a formula that relates conditional probabilities. It allows us to update our beliefs about the likelihood of an event based on new evidence."
   ]
  },
  {
   "cell_type": "markdown",
   "id": "b8528754",
   "metadata": {},
   "source": [
    "Q5. How do you choose which type of Naive Bayes classifier to use for any given problem?"
   ]
  },
  {
   "cell_type": "markdown",
   "id": "9180d069",
   "metadata": {},
   "source": [
    "Choosing the appropriate type of Naive Bayes classifier depends on the characteristics of the problem and the assumptions that best match the data. Here's a brief guide:\n",
    "\n",
    "Gaussian Naive Bayes:\n",
    "\n",
    "Use when the features follow a Gaussian (normal) distribution.\n",
    "Suitable for continuous numerical features.\n",
    "Assumes that features are independent and normally distributed within each class.\n",
    "Multinomial Naive Bayes:\n"
   ]
  },
  {
   "cell_type": "markdown",
   "id": "9ccd96f5",
   "metadata": {},
   "source": [
    "Q6. Assignment:\n",
    "You have a dataset with two features, X1 and X2, and two possible classes, A and B. You want to use Naive\n",
    "Bayes to classify a new instance with features X1 = 3 and X2 = 4. The following table shows the frequency of\n",
    "each feature value for each class:\n",
    "Class X1=1 X1=2 X1=3 X2=1 X2=2 X2=3 X2=4\n",
    "A 3 3 4 4 3 3 3\n",
    "B 2 2 1 2 2 2 3\n",
    "Assuming equal prior probabilities for each class, which class would Naive Bayes predict the new instance\n",
    "to belong to?"
   ]
  },
  {
   "cell_type": "markdown",
   "id": "3c2328f1",
   "metadata": {},
   "source": [
    "\n",
    "To predict the class using Naive Bayes, we need to calculate the likelihood of each class given the feature values (X1=3 and X2=4). We'll assume equal prior probabilities for each class. Let's calculate:\n",
    "For class A: \n",
    "0.12\n",
    "0.12\n",
    "For class B: \n",
    "0.037\n",
    "0.037\n",
    "The new instance wou"
   ]
  }
 ],
 "metadata": {
  "kernelspec": {
   "display_name": "Python 3 (ipykernel)",
   "language": "python",
   "name": "python3"
  },
  "language_info": {
   "codemirror_mode": {
    "name": "ipython",
    "version": 3
   },
   "file_extension": ".py",
   "mimetype": "text/x-python",
   "name": "python",
   "nbconvert_exporter": "python",
   "pygments_lexer": "ipython3",
   "version": "3.11.5"
  }
 },
 "nbformat": 4,
 "nbformat_minor": 5
}
