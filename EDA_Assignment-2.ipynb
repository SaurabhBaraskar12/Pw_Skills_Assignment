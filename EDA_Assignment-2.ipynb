{
 "cells": [
  {
   "cell_type": "markdown",
   "id": "48a561bc",
   "metadata": {},
   "source": [
    "# EDA Assignment-2"
   ]
  },
  {
   "cell_type": "code",
   "execution_count": null,
   "id": "7e62772a",
   "metadata": {},
   "outputs": [],
   "source": [
    "Q1. Load the flight price dataset and examine its dimensions. How many rows and columns does the dataset have?\n",
    "\n",
    "I can certainly help you with that. However, I'll need to know the format of the dataset you're referring to. Is it a CSV file, Excel spreadsheet, or in some other format\n",
    "\n",
    "Q2. What is the distribution of flight prices in the dataset? Create a histogram to visualize the distribution.\n",
    "\n",
    "To help you with this, I need to know the format of the dataset you're referring to and the specific column containing the flight prices. Once I have that information, I can assist you in generating the histogram to visualize the distribution of flight prices.\n",
    "\n",
    "Q3. What is the range of prices in the dataset? What is the minimum and maximum price?\n",
    "\n",
    "To determine the range of prices in the dataset, I would need access to the dataset itself or the specific column containing the flight prices. Once I have that information, I can calculate the minimum and maximum prices, and then find the range by subtracting the minimum from the maximum. Could you please provide the dataset or specify the column containing the flight prices?\n",
    "\n",
    "Q4. How does the price of flights vary by airline? Create a boxplot to compare the prices of different airlines.\n",
    "\n",
    "To create a boxplot comparing the prices of different airlines, I need access to the dataset with the flight prices and the corresponding airline information. Once I have that, I can assist you in generating the boxplot. Could you please provide the dataset or specify the columns containing the flight prices and airline information?\n",
    "\n",
    "Q5. Are there any outliers in the dataset? Identify any potential outliers using a boxplot and describe how they may impact your analysis.\n",
    "\n",
    "To identify potential outliers in the dataset, I can create a boxplot and look for data points that fall outside the whiskers of the boxplot. Once I detect any potential outliers, I can describe how they may impact the analysis.\n",
    "\n",
    "Could you please provide the dataset or specify the column containing the flight prices so that I can create the boxplot and identify any outliers?\n",
    "\n",
    "Q6. You are working for a travel agency, and your boss has asked you to analyze the Flight Price dataset to identify the peak travel season. What features would you analyze to identify the peak season, and how would you present your findings to your boss?\n",
    "\n",
    "By presenting a thorough analysis of the Flight Price dataset and its implications for identifying peak travel seasons, the travel agency can make informed decisions to optimize its business operations and enhance customer satisfaction.\n",
    "\n",
    "Q7. You are a data analyst for a flight booking website, and you have been asked to analyze the Flight Price dataset to identify any trends in flight prices. What features would you analyze to identify these trends, and what visualizations would you use to present your findings to your team?\n",
    "\n",
    "By analyzing these features and presenting the findings using appropriate visualizations, the team can gain valuable insights into trends in flight prices, which can inform pricing strategies, marketing campaigns, and customer targeting efforts for the flight booking website.\n",
    "\n",
    "Q8. You are a data scientist working for an airline company, and you have been asked to analyze the Flight Price dataset to identify the factors that affect flight prices. What features would you analyze to identify these factors, and how would you present your findings to the management team?\n",
    "\n",
    "By presenting a thorough analysis of the factors that affect flight prices, the management team can make informed decisions to optimize pricing strategies, maximize revenue, and enhance customer satisfaction."
   ]
  }
 ],
 "metadata": {
  "kernelspec": {
   "display_name": "Python 3 (ipykernel)",
   "language": "python",
   "name": "python3"
  },
  "language_info": {
   "codemirror_mode": {
    "name": "ipython",
    "version": 3
   },
   "file_extension": ".py",
   "mimetype": "text/x-python",
   "name": "python",
   "nbconvert_exporter": "python",
   "pygments_lexer": "ipython3",
   "version": "3.11.5"
  }
 },
 "nbformat": 4,
 "nbformat_minor": 5
}
