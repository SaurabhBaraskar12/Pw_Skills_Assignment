{
 "cells": [
  {
   "cell_type": "markdown",
   "id": "3d36089b",
   "metadata": {},
   "source": [
    "# Fundamental of CNN"
   ]
  },
  {
   "cell_type": "markdown",
   "id": "7cf183de",
   "metadata": {},
   "source": [
    "Q.1) Diffrent btw Object Detection ad Object Classification."
   ]
  },
  {
   "cell_type": "markdown",
   "id": "360966bf",
   "metadata": {},
   "source": [
    "The choice between zero-padding and valid-padding depends on the desired behavior of the convolutional layer and the specific requirements of the network architecture."
   ]
  },
  {
   "cell_type": "markdown",
   "id": "528cf084",
   "metadata": {},
   "source": [
    "Q.2) Sceniroes where Object Dictionaries is used:"
   ]
  },
  {
   "cell_type": "markdown",
   "id": "e9f7052f",
   "metadata": {},
   "source": [
    "These are just a few examples of the many scenarios where object detection plays a crucial role in various industries and applications. Its versatility and effectiveness make it a fundamental technology for solving a wide range of real-world problems."
   ]
  },
  {
   "cell_type": "code",
   "execution_count": null,
   "id": "bd0992dc",
   "metadata": {},
   "outputs": [],
   "source": [
    "Q.3) ImageData as Structurd Data:"
   ]
  },
  {
   "cell_type": "markdown",
   "id": "f6fdb40e",
   "metadata": {},
   "source": [
    "These are just a few examples of the many scenarios where object detection plays a crucial role in various industries and applications. Its versatility and effectiveness make it a fundamental technology for solving a wide range of real-world problems."
   ]
  },
  {
   "cell_type": "markdown",
   "id": "b6588cf6",
   "metadata": {},
   "source": [
    "Q.4) Explain  Information in Image for CNN:"
   ]
  },
  {
   "cell_type": "markdown",
   "id": "0c9ba9d2",
   "metadata": {},
   "source": [
    ", information in an image for CNNs is represented by the pixel values, their spatial arrangement, and the contextual relationships between them. CNNs process this information through layers of convolutional, pooling, and fully connected layers to learn hierarchical representations and extract useful features for a wide range of computer vision tasks."
   ]
  },
  {
   "cell_type": "markdown",
   "id": "4d653241",
   "metadata": {},
   "source": [
    "Q.5) Flatting Images for ANN:"
   ]
  },
  {
   "cell_type": "markdown",
   "id": "a50d51c8",
   "metadata": {},
   "source": [
    "ANNs can treat each pixel in the image as a separate input feature, allowing them to learn patterns and relationships in the image data. This process is commonly used in image classification tasks, where ANNs learn to classify images based on the pixel values of the flattened input vectors."
   ]
  },
  {
   "cell_type": "markdown",
   "id": "42a416d7",
   "metadata": {},
   "source": [
    "Q.6) Applying CNN to th MNIST Datast:"
   ]
  },
  {
   "cell_type": "markdown",
   "id": "918a9794",
   "metadata": {},
   "source": [
    "Load MNIST dataset.\n",
    "Preprocess data: Normalize pixel values, reshape images.\n",
    "Split dataset: Train, validation, test sets.\n",
    "Build CNN model: Convolutional layers, pooling layers, fully connected layers.\n",
    "Compile model: Loss function, optimizer.\n",
    "Train model: Monitor training and validation metrics.\n",
    "Evaluate model: Test set performance metrics.\n",
    "Fine-tune: Adjust hyperparameters for better performance."
   ]
  },
  {
   "cell_type": "markdown",
   "id": "95962d81",
   "metadata": {},
   "source": [
    "Q.7) Extracting Featurs at Local Space:"
   ]
  },
  {
   "cell_type": "markdown",
   "id": "24d96a2a",
   "metadata": {},
   "source": [
    "By extracting features at local space, we can capture detailed information about specific regions or structures within an image, enabling various computer vision tasks such as object recognition, image registration, and scene understanding."
   ]
  },
  {
   "cell_type": "markdown",
   "id": "7c0e664e",
   "metadata": {},
   "source": [
    "̧ Q.8) Importance of Covolutio ad Max Pooling:"
   ]
  },
  {
   "cell_type": "markdown",
   "id": "6b7c1f79",
   "metadata": {},
   "source": [
    "convolution and max pooling are fundamental operations in CNNs that enable effective feature extraction, hierarchical representation learning, and robustness to variations in input data. They play critical roles in enabling CNNs to learn complex patterns and relationships within images, making them essential components for a wide range of computer vision tasks."
   ]
  },
  {
   "cell_type": "markdown",
   "id": "5b13ed40",
   "metadata": {},
   "source": []
  }
 ],
 "metadata": {
  "kernelspec": {
   "display_name": "Python 3 (ipykernel)",
   "language": "python",
   "name": "python3"
  },
  "language_info": {
   "codemirror_mode": {
    "name": "ipython",
    "version": 3
   },
   "file_extension": ".py",
   "mimetype": "text/x-python",
   "name": "python",
   "nbconvert_exporter": "python",
   "pygments_lexer": "ipython3",
   "version": "3.11.5"
  }
 },
 "nbformat": 4,
 "nbformat_minor": 5
}
