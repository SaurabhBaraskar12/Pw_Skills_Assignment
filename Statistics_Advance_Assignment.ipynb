{
 "cells": [
  {
   "cell_type": "markdown",
   "id": "d1ee7b5a",
   "metadata": {},
   "source": [
    "# Statistice  Advance Assignment"
   ]
  },
  {
   "cell_type": "markdown",
   "id": "c3e8cde5",
   "metadata": {},
   "source": [
    "Q1. What is the Probability density function?"
   ]
  },
  {
   "cell_type": "markdown",
   "id": "a5c9eb5a",
   "metadata": {},
   "source": [
    "\n",
    "The Probability Density Function (PDF) describes the likelihood of a continuous random variable's values within a range. Unlike discrete variables, it assigns probabilities to intervals rather than individual values. Mathematically denoted as \n",
    "�\n",
    "(\n",
    "�\n",
    ")\n",
    "f(x), it's non-negative and integrates to 1 over its entire range."
   ]
  },
  {
   "cell_type": "markdown",
   "id": "c8636208",
   "metadata": {},
   "source": [
    "Q2. What are the types of Probability distribution?"
   ]
  },
  {
   "cell_type": "markdown",
   "id": "72ee43e0",
   "metadata": {},
   "source": [
    "Discrete Probability Distributions:\n",
    "\n",
    "Bernoulli Distribution\n",
    "Binomial Distribution\n",
    "Poisson Distribution\n",
    "Geometric Distribution\n",
    "Hypergeometric Distribution\n",
    "Continuous Probability Distributions:\n",
    "\n",
    "Normal Distribution (Gaussian Distribution)\n",
    "Uniform Distribution\n",
    "Exponential Distribution\n",
    "Gamma Distribution\n",
    "Beta Distribution\n",
    "Chi-Square Distribution\n",
    "Student's t-Distribution\n",
    "Log-Normal Distributio"
   ]
  },
  {
   "cell_type": "markdown",
   "id": "f8e9e674",
   "metadata": {},
   "source": []
  },
  {
   "cell_type": "markdown",
   "id": "7cb73ac3",
   "metadata": {},
   "source": [
    "Q3. Write a Python function to calculate the probability density function of a normal distribution with\n",
    "given mean and standard deviation at a given point."
   ]
  },
  {
   "cell_type": "code",
   "execution_count": 1,
   "id": "5792ecaf",
   "metadata": {},
   "outputs": [],
   "source": [
    "import math\n",
    "\n",
    "def normal_pdf(x, mean, std_dev):\n",
    "  \n",
    "    exponent = -((x - mean) ** 2) / (2 * std_dev ** 2)\n",
    "    coefficient = 1 / (std_dev * math.sqrt(2 * math.pi))\n",
    "    pdf_value = coefficient * math.exp(exponent)\n",
    "    return pdf_value\n"
   ]
  },
  {
   "cell_type": "markdown",
   "id": "a03a1061",
   "metadata": {},
   "source": [
    "Q4. What are the properties of Binomial distribution? Give two examples of events where binomial\n",
    "distribution can be applied."
   ]
  },
  {
   "cell_type": "markdown",
   "id": "02fdedea",
   "metadata": {},
   "source": [
    "Fixed number of trials.\n",
    "Two possible outcomes.\n",
    "Independent trials.\n",
    "Constant probability of success.\n",
    "Discrete distribution."
   ]
  },
  {
   "cell_type": "markdown",
   "id": "c2569d12",
   "metadata": {},
   "source": [
    "Q5. Generate a random sample of size 1000 from a binomial distribution with probability of success 0.4\n",
    "and plot a histogram of the results using matplotlib."
   ]
  },
  {
   "cell_type": "code",
   "execution_count": 4,
   "id": "aab542d4",
   "metadata": {},
   "outputs": [
    {
     "data": {
      "image/png": "[encoded data removed]",
      "text/plain": [
       "<Figure size 640x480 with 1 Axes>"
      ]
     },
     "metadata": {},
     "output_type": "display_data"
    }
   ],
   "source": [
    "import numpy as np\n",
    "import matplotlib.pyplot as plt\n",
    "\n",
    "# Parameters\n",
    "n = 1000 \n",
    "p = 0.4  \n",
    "\n",
    "\n",
    "random_sample = np.random.binomial(1, p, n)\n",
    "\n",
    "# Plot histogram\n",
    "plt.hist(random_sample, bins=2, color='skyblue', edgecolor='black', alpha=0.7)\n",
    "plt.title('Histogram of Binomial Distribution')\n",
    "plt.xlabel('Outcome (0: Failure, 1: Success)')\n",
    "plt.ylabel('Frequency')\n",
    "plt.xticks([0, 1], ['Failure', 'Success'])\n",
    "plt.show()\n"
   ]
  },
  {
   "cell_type": "markdown",
   "id": "2a1fe09d",
   "metadata": {},
   "source": [
    "Q6. Write a Python function to calculate the cumulative distribution function of a Poisson distribution\n",
    "with given mean at a given point.\n"
   ]
  },
  {
   "cell_type": "code",
   "execution_count": 6,
   "id": "7b2755e9",
   "metadata": {},
   "outputs": [],
   "source": [
    "import math\n",
    "\n",
    "def poisson_cdf(x, mean):\n",
    "   \n",
    "    cdf = 0\n",
    "    for i in range(x + 1):\n",
    "        cdf += (math.exp(-mean) * (mean ** i)) / math.factorial(i)\n",
    "    return cdf\n"
   ]
  },
  {
   "cell_type": "markdown",
   "id": "50bceb55",
   "metadata": {},
   "source": [
    "Q7. How Binomial distribution different from Poisson distribution?\n"
   ]
  },
  {
   "cell_type": "markdown",
   "id": "d7731145",
   "metadata": {},
   "source": [
    "Binomial distribution:\n",
    "\n",
    "Fixed number of trials.\n",
    "Two possible outcomes.\n",
    "Constant probability of success.\n",
    "Used for a finite number of trials.\n",
    "Poisson distribution:\n",
    "\n",
    "Infinite number of trials.\n",
    "Rare events with small probability.\n",
    "Used for occurrences in a fixed interval.\n",
    "One parameter: average rate of occurrence.\n"
   ]
  },
  {
   "cell_type": "markdown",
   "id": "93bed756",
   "metadata": {},
   "source": [
    "Q8. Generate a random sample of size 1000 from a Poisson distribution with mean 5 and calculate the\n",
    "sample mean and variance."
   ]
  },
  {
   "cell_type": "code",
   "execution_count": 8,
   "id": "dda4ad4e",
   "metadata": {},
   "outputs": [
    {
     "name": "stdout",
     "output_type": "stream",
     "text": [
      "Sample Mean: 5.013\n",
      "Sample Variance: 4.798831\n"
     ]
    }
   ],
   "source": [
    "import numpy as np\n",
    "\n",
    "# Parameters\n",
    "mean = 5\n",
    "sample_size = 1000\n",
    "\n",
    "# Generate random sample from Poisson distribution\n",
    "random_sample = np.random.poisson(mean, sample_size)\n",
    "\n",
    "# Calculate sample mean and variance\n",
    "sample_mean = np.mean(random_sample)\n",
    "sample_variance = np.var(random_sample)\n",
    "\n",
    "print(\"Sample Mean:\", sample_mean)\n",
    "print(\"Sample Variance:\", sample_variance)\n"
   ]
  },
  {
   "cell_type": "markdown",
   "id": "b53ecd9b",
   "metadata": {},
   "source": [
    "Q9. How mean and variance are related in Binomial distribution and Poisson distribution?"
   ]
  },
  {
   "cell_type": "markdown",
   "id": "f1e13bf5",
   "metadata": {},
   "source": [
    "\n",
    "In both the Binomial and Poisson distributions, the variance is related to the mean.\n",
    "\n",
    "For the Binomial distribution, the variance depends on the number of trials and the probability of success.\n",
    "\n",
    "For the Poisson distribution, the variance is equal to the mean, which is the average rate of occurrence.\n",
    "\n"
   ]
  },
  {
   "cell_type": "markdown",
   "id": "875d1c6f",
   "metadata": {},
   "source": [
    "Q10. In normal distribution with respect to mean position, where does the least frequent data appear?"
   ]
  },
  {
   "cell_type": "markdown",
   "id": "550eeeef",
   "metadata": {},
   "source": [
    "the least frequent data appears farthest away from the mean position. Since the normal distribution is symmetrical, the least frequent data points appear at the tails of the distribution, which are the extreme values furthest from the mean."
   ]
  },
  {
   "cell_type": "code",
   "execution_count": null,
   "id": "4bc9f522",
   "metadata": {},
   "outputs": [],
   "source": []
  }
 ],
 "metadata": {
  "kernelspec": {
   "display_name": "Python 3 (ipykernel)",
   "language": "python",
   "name": "python3"
  },
  "language_info": {
   "codemirror_mode": {
    "name": "ipython",
    "version": 3
   },
   "file_extension": ".py",
   "mimetype": "text/x-python",
   "name": "python",
   "nbconvert_exporter": "python",
   "pygments_lexer": "ipython3",
   "version": "3.11.5"
  }
 },
 "nbformat": 4,
 "nbformat_minor": 5
}
