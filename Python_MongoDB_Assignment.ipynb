{
 "cells": [
  {
   "cell_type": "markdown",
   "id": "de4137df",
   "metadata": {},
   "source": [
    "# MongoDB Assignment"
   ]
  },
  {
   "cell_type": "markdown",
   "id": "6d59ae84",
   "metadata": {},
   "source": [
    "Q1. What is MongoDB? Explain non-relational databases in short. In which scenarios it is preferred to use\n",
    "MongoDB over SQL databases?"
   ]
  },
  {
   "cell_type": "markdown",
   "id": "fc328e25",
   "metadata": {},
   "source": [
    "MongoDB is a non-relational database system that stores data in flexible, JSON-like documents. Non-relational databases are preferred for handling unstructured or semi-structured data, offering scalability and performance advantages over SQL databases in scenarios with evolving schemas, unstructured data, high scalability requirements, and real-time analytics needs."
   ]
  },
  {
   "cell_type": "markdown",
   "id": "7b8c40d7",
   "metadata": {},
   "source": [
    "Q2. State and Explain the features of MongoDB."
   ]
  },
  {
   "cell_type": "markdown",
   "id": "b6a57fa9",
   "metadata": {},
   "source": [
    "Flexible Schema:\n",
    "Document-Oriented: .\n",
    "Scalability: \n",
    "High Performance:\n",
    "Rich Query Language:.\n",
    "Automatic Failover: \n",
    "Consistency and Durability: \n",
    "Horizontal Scalability: \n",
    "Flexible Indexing: \n",
    "Aggregation Framework"
   ]
  },
  {
   "cell_type": "markdown",
   "id": "44feeb69",
   "metadata": {},
   "source": [
    "Q3. Write a code to connect MongoDB to Python. Also, create a database and a collection in MongoDB."
   ]
  },
  {
   "cell_type": "code",
   "execution_count": 2,
   "id": "dd0c235d",
   "metadata": {},
   "outputs": [
    {
     "ename": "ModuleNotFoundError",
     "evalue": "No module named 'pymongo'",
     "output_type": "error",
     "traceback": [
      "\u001b[1;31m---------------------------------------------------------------------------\u001b[0m",
      "\u001b[1;31mModuleNotFoundError\u001b[0m                       Traceback (most recent call last)",
      "Cell \u001b[1;32mIn[2], line 1\u001b[0m\n\u001b[1;32m----> 1\u001b[0m \u001b[38;5;28;01mfrom\u001b[39;00m \u001b[38;5;21;01mpymongo\u001b[39;00m \u001b[38;5;28;01mimport\u001b[39;00m MongoClient\n\u001b[0;32m      3\u001b[0m client \u001b[38;5;241m=\u001b[39m MongoClient(\u001b[38;5;124m'\u001b[39m\u001b[38;5;124mmongodb://localhost:27017/\u001b[39m\u001b[38;5;124m'\u001b[39m)  \n\u001b[0;32m      5\u001b[0m mydb \u001b[38;5;241m=\u001b[39m client[\u001b[38;5;124m'\u001b[39m\u001b[38;5;124mmydatabase\u001b[39m\u001b[38;5;124m'\u001b[39m]\n",
      "\u001b[1;31mModuleNotFoundError\u001b[0m: No module named 'pymongo'"
     ]
    }
   ],
   "source": [
    "from pymongo import MongoClient\n",
    "\n",
    "client = MongoClient('mongodb://localhost:27017/')  \n",
    "\n",
    "mydb = client['mydatabase']\n",
    "\n",
    "\n",
    "mycollection = mydb['mycollection']\n",
    "\n",
    "\n",
    "data = {'name': 'John', 'age': 30, 'city': 'New York'}\n",
    "insert_result = mycollection.insert_one(data)\n",
    "print(\"Inserted document ID:\", insert_result.inserted_id)\n",
    "\n",
    "client.close()\n"
   ]
  },
  {
   "cell_type": "markdown",
   "id": "160ade8a",
   "metadata": {},
   "source": [
    "Q4. Using the database and the collection created in question number 3, write a code to insert one record,\n",
    "and insert many records. Use the find() and find_one() methods to print the inserted record."
   ]
  },
  {
   "cell_type": "markdown",
   "id": "5af46d62",
   "metadata": {},
   "source": [
    "from pymongo import MongoClient\n",
    "\n",
    "client = MongoClient('mongodb://localhost:27017/')  \n",
    "mydb = client['mydatabase']\n",
    "\n",
    "mycollection = mydb['mycollection']\n",
    "\n",
    "data_one = {'name': 'Alice', 'age': 25, 'city': 'Los Angeles'}\n",
    "insert_one_result = mycollection.insert_one(data_one)\n",
    "print(\"Inserted document ID (one record):\", insert_one_result.inserted_id)\n",
    "\n",
    "data_many = [\n",
    "    {'name': 'Bob', 'age': 35, 'city': 'Chicago'},\n",
    "    {'name': 'Charlie', 'age': 40, 'city': 'Houston'},\n",
    "    {'name': 'David', 'age': 30, 'city': 'Miami'}\n",
    "]\n",
    "insert_many_result = mycollection.insert_many(data_many)\n",
    "print(\"Inserted document IDs (many records):\", insert_many_result.inserted_ids)\n",
    "\n",
    "print(\"\\nInserted records:\")\n",
    "for record in mycollection.find():\n",
    "    print(record)\n",
    "\n",
    "print(\"\\nOne inserted record:\")\n",
    "print(mycollection.find_one({'name': 'Alice'}))\n",
    "\n",
    "client.close()\n"
   ]
  },
  {
   "cell_type": "markdown",
   "id": "5b4dd1ca",
   "metadata": {},
   "source": [
    "Q5. Explain how you can use the find() method to query the MongoDB database. Write a simple code to\n",
    "demonstrate this."
   ]
  },
  {
   "cell_type": "markdown",
   "id": "a7fa6dbc",
   "metadata": {},
   "source": [
    "from pymongo import MongoClient\n",
    "\n",
    "client = MongoClient('mongodb://localhost:27017/')  # Assuming MongoDB is running on localhost:27017\n",
    "\n",
    "mydb = client['mydatabase']\n",
    "\n",
    "mycollection = mydb['mycollection']\n",
    "\n",
    "data = [\n",
    "    {'name': 'Alice', 'age': 25, 'city': 'Los Angeles'},\n",
    "    {'name': 'Bob', 'age': 35, 'city': 'Chicago'},\n",
    "    {'name': 'Charlie', 'age': 40, 'city': 'Houston'}\n",
    "]\n",
    "mycollection.insert_many(data)\n",
    "\n",
    "query = {'city': 'Chicago'}  # Find documents where 'city' is 'Chicago'\n",
    "result = mycollection.find(query)\n",
    "\n",
    "print(\"Documents where city is Chicago:\")\n",
    "for document in result:\n",
    "    print(document)\n",
    "\n",
    "client.close()\n"
   ]
  },
  {
   "cell_type": "markdown",
   "id": "1af741c8",
   "metadata": {},
   "source": [
    "Q6. Explain the sort() method. Give an example to demonstrate sorting in MongoDB."
   ]
  },
  {
   "cell_type": "markdown",
   "id": "255fa015",
   "metadata": {},
   "source": [
    "result = students_collection.find().sort('age', -1)\n"
   ]
  },
  {
   "cell_type": "markdown",
   "id": "e189b4b9",
   "metadata": {},
   "source": [
    "Q7. Explain why delete_one(), delete_many(), and drop() is used."
   ]
  },
  {
   "cell_type": "code",
   "execution_count": null,
   "id": "26376f64",
   "metadata": {},
   "outputs": [],
   "source": [
    "\n",
    "delete_one(): Removes a single document based on specified criteria.\n",
    "delete_many(): Removes multiple documents based on specified criteria.\n",
    "drop(): Deletes an entire collection."
   ]
  }
 ],
 "metadata": {
  "kernelspec": {
   "display_name": "Python 3 (ipykernel)",
   "language": "python",
   "name": "python3"
  },
  "language_info": {
   "codemirror_mode": {
    "name": "ipython",
    "version": 3
   },
   "file_extension": ".py",
   "mimetype": "text/x-python",
   "name": "python",
   "nbconvert_exporter": "python",
   "pygments_lexer": "ipython3",
   "version": "3.11.5"
  }
 },
 "nbformat": 4,
 "nbformat_minor": 5
}
