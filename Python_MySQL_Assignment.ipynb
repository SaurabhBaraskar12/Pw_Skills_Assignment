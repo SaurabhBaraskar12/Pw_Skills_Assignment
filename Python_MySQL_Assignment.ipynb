{
 "cells": [
  {
   "cell_type": "markdown",
   "id": "3e09db1a",
   "metadata": {},
   "source": [
    "# MYSQL Assignment"
   ]
  },
  {
   "cell_type": "markdown",
   "id": "180940a3",
   "metadata": {},
   "source": [
    "Q1. What is a database? Differentiate between SQL and NoSQL databases."
   ]
  },
  {
   "cell_type": "markdown",
   "id": "5f419636",
   "metadata": {},
   "source": [
    "SQL (Relational Databases):\n",
    "\n",
    "Structured Query Language (SQL).\n",
    "Structured data in tables with fixed schemas.\n",
    "ACID transactions.\n",
    "Vertical scalability.\n",
    "Strong consistency.\n",
    "NoSQL (Non-relational Databases):\n",
    "\n",
    "Flexible schema.\n",
    "Various data formats (document, key-value, column, graph).\n",
    "BASE transactions.\n",
    "Horizontal scalability.\n",
    "Eventual consistency."
   ]
  },
  {
   "cell_type": "markdown",
   "id": "02215f39",
   "metadata": {},
   "source": [
    "Q2. What is DDL? Explain why CREATE, DROP, ALTER, and TRUNCATE are used with an example."
   ]
  },
  {
   "cell_type": "markdown",
   "id": "0c27b180",
   "metadata": {},
   "source": [
    "CREATE TABLE employees (\n",
    "    id INT PRIMARY KEY,\n",
    "    name VARCHAR(100),\n",
    "    age INT,\n",
    "    department VARCHAR(100)\n",
    ");\n"
   ]
  },
  {
   "cell_type": "markdown",
   "id": "b746da23",
   "metadata": {},
   "source": [
    "Q3. What is DML? Explain INSERT, UPDATE, and DELETE with an example."
   ]
  },
  {
   "cell_type": "markdown",
   "id": "314949a4",
   "metadata": {},
   "source": [
    "INSERT INTO employees (id, name, age, department)\n",
    "VALUES (1, 'John Doe', 30, 'IT');"
   ]
  },
  {
   "cell_type": "markdown",
   "id": "99760061",
   "metadata": {},
   "source": [
    "Q4. What is DQL? Explain SELECT with an example."
   ]
  },
  {
   "cell_type": "markdown",
   "id": "3e7d3b6f",
   "metadata": {},
   "source": [
    "SELECT id, name, age, department\n",
    "FROM employees\n",
    "WHERE department = 'IT';"
   ]
  },
  {
   "cell_type": "markdown",
   "id": "04d0ffd7",
   "metadata": {},
   "source": [
    "Q5. Explain Primary Key and Foreign Key."
   ]
  },
  {
   "cell_type": "markdown",
   "id": "139b8f62",
   "metadata": {},
   "source": [
    "CREATE TABLE orders (\n",
    "    order_id INT PRIMARY KEY,\n",
    "    customer_id INT,\n",
    "    order_date DATE,\n",
    "    FOREIGN KEY (customer_id) REFERENCES customers(customer_id)\n",
    ");\n"
   ]
  },
  {
   "cell_type": "markdown",
   "id": "0252bcda",
   "metadata": {},
   "source": [
    "Q6. Write a python code to connect MySQL to python. Explain the cursor() and execute() method."
   ]
  },
  {
   "cell_type": "markdown",
   "id": "4df43ed7",
   "metadata": {},
   "source": [
    "CREATE TABLE orders (\n",
    "    order_id INT PRIMARY KEY,\n",
    "    customer_id INT,\n",
    "    order_date DATE,\n",
    "    FOREIGN KEY (customer_id) REFERENCES customers(customer_id)\n",
    ");"
   ]
  },
  {
   "cell_type": "code",
   "execution_count": null,
   "id": "b40960f0",
   "metadata": {},
   "outputs": [],
   "source": [
    "Q7. Give the order of execution of SQL clauses in an SQL query."
   ]
  },
  {
   "cell_type": "markdown",
   "id": "81d298d9",
   "metadata": {},
   "source": [
    "FROM\n",
    "JOIN\n",
    "WHERE\n",
    "GROUP BY\n",
    "HAVING\n",
    "SELECT\n",
    "DISTINCT\n",
    "ORDER BY\n",
    "LIMIT/OFFSET"
   ]
  }
 ],
 "metadata": {
  "kernelspec": {
   "display_name": "Python 3 (ipykernel)",
   "language": "python",
   "name": "python3"
  },
  "language_info": {
   "codemirror_mode": {
    "name": "ipython",
    "version": 3
   },
   "file_extension": ".py",
   "mimetype": "text/x-python",
   "name": "python",
   "nbconvert_exporter": "python",
   "pygments_lexer": "ipython3",
   "version": "3.11.5"
  }
 },
 "nbformat": 4,
 "nbformat_minor": 5
}
