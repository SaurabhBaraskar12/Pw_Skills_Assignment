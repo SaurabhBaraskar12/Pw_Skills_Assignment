{
 "cells": [
  {
   "cell_type": "markdown",
   "id": "1ce0edc3",
   "metadata": {},
   "source": [
    "# Multithreading"
   ]
  },
  {
   "cell_type": "markdown",
   "id": "5dc879f0",
   "metadata": {},
   "source": [
    "Q.1). hat is multithreading in python? hy is it used? Name the module used to handle threads in python."
   ]
  },
  {
   "cell_type": "markdown",
   "id": "869a6b6b",
   "metadata": {},
   "source": [
    "\n",
    "Multithreading in Python allows multiple threads to run concurrently. It's used for concurrency, asynchronous I/O, and responsive user interfaces. The threading module is used to handle threads in Python."
   ]
  },
  {
   "cell_type": "markdown",
   "id": "f2dfc4a4",
   "metadata": {},
   "source": [
    "Q.2) hy threading module used? rite the use of the following functions\n",
    "( activeCount currentThread enumerate)"
   ]
  },
  {
   "cell_type": "code",
   "execution_count": null,
   "id": "6dfcc116",
   "metadata": {},
   "outputs": [],
   "source": [
    "The threading module in Python is used to work with threads. Here's the use of the following functions:\n",
    "\n",
    "activeCount(): This function returns the number of Thread objects currently alive. It's often used to monitor the number of active threads in a program.\n",
    "\n",
    "currentThread(): This function returns the currently executing Thread object. It's useful for identifying the thread from which the function is called.\n",
    "\n",
    "enumerate(): This function returns a list of all Thread objects currently alive. It's handy for iterating over all active threads and performing operations on them, such as joining or terminating.\n"
   ]
  },
  {
   "cell_type": "code",
   "execution_count": null,
   "id": "a7a04663",
   "metadata": {},
   "outputs": [],
   "source": [
    "Q.3) Explain the following functions\n",
    "( run start join' is Alive)"
   ]
  },
  {
   "cell_type": "code",
   "execution_count": null,
   "id": "8e0b61f0",
   "metadata": {},
   "outputs": [],
   "source": [
    "run(): Defines what the thread does when it runs.\n",
    "\n",
    "start(): Initiates the execution of the thread.\n",
    "\n",
    "join(): Waits for the thread to finish its task.\n",
    "\n",
    "isAlive(): Checks if the thread is currently running."
   ]
  },
  {
   "cell_type": "code",
   "execution_count": null,
   "id": "8d89e9bb",
   "metadata": {},
   "outputs": [],
   "source": [
    "Q.4) Write a python program to create two threads. Thread one must print the list of squares and thread\n",
    "two must print the list of cubes."
   ]
  },
  {
   "cell_type": "code",
   "execution_count": 3,
   "id": "b8523a22",
   "metadata": {},
   "outputs": [
    {
     "name": "stdout",
     "output_type": "stream",
     "text": [
      "Square of 1 is 1Cube of 1 is 1\n",
      "Cube of 2 is 8\n",
      "Cube of 3 is 27\n",
      "Cube of 4 is 64\n",
      "Cube of 5 is 125\n",
      "\n",
      "Square of 2 is 4\n",
      "Square of 3 is 9\n",
      "Square of 4 is 16\n",
      "Square of 5 is 25\n",
      "Both threads have finished execution.\n"
     ]
    }
   ],
   "source": [
    "import threading\n",
    "\n",
    "def print_squares():\n",
    "    for i in range(1, 6):\n",
    "        print(f\"Square of {i} is {i*i}\")\n",
    "\n",
    "def print_cubes():\n",
    "    for i in range(1, 6):\n",
    "        print(f\"Cube of {i} is {i*i*i}\")\n",
    "\n",
    "# Create threads\n",
    "thread1 = threading.Thread(target=print_squares)\n",
    "thread2 = threading.Thread(target=print_cubes)\n",
    "\n",
    "# Start threads\n",
    "thread1.start()\n",
    "thread2.start()\n",
    "\n",
    "thread1.join()\n",
    "thread2.join()\n",
    "\n",
    "print(\"Both threads have finished execution.\")\n"
   ]
  },
  {
   "cell_type": "markdown",
   "id": "efd87eed",
   "metadata": {},
   "source": [
    "Q.5) State advantages and disadvantages of multithreading."
   ]
  },
  {
   "cell_type": "markdown",
   "id": "6cd8b438",
   "metadata": {},
   "source": [
    "Advantages of Multithreading:\n",
    "\n",
    "Concurrency: Multiple tasks run simultaneously, optimizing CPU usage.\n",
    "Responsiveness: Keeps applications responsive by allowing tasks to run in parallel.\n",
    "Resource Sharing: Threads share memory space, facilitating data sharing.\n",
    "Simplified Design: Breaks down complex tasks into manageable units.\n",
    "Disadvantages of Multithreading:\n",
    "\n",
    "Complexity: Introduces complexity in code due to race conditions and synchronization.\n",
    "Debugging: Debugging is challenging due to non-deterministic behavior.\n",
    "Overhead: Creating and managing threads incurs overhead in terms of resources.\n",
    "Potential Errors: Increases the likelihood of concurrency-related errors like race conditions."
   ]
  },
  {
   "cell_type": "markdown",
   "id": "39bc991d",
   "metadata": {},
   "source": [
    "Q.6) Explain deadlocks and race conditions."
   ]
  },
  {
   "cell_type": "code",
   "execution_count": null,
   "id": "6fd3229f",
   "metadata": {},
   "outputs": [],
   "source": [
    "Deadlock:\n",
    "Happens when two or more threads are stuck forever, waiting for each other to release resources they need.\n",
    "Like a traffic jam where each car is waiting for the other to move, but none can.\n",
    "Race Condition:\n",
    "\n",
    "Occurs when the behavior of a program depends on the timing of multiple threads accessing shared resources.\n",
    "Like two people trying to update the same file simultaneously, leading to unpredictable results."
   ]
  }
 ],
 "metadata": {
  "kernelspec": {
   "display_name": "Python 3 (ipykernel)",
   "language": "python",
   "name": "python3"
  },
  "language_info": {
   "codemirror_mode": {
    "name": "ipython",
    "version": 3
   },
   "file_extension": ".py",
   "mimetype": "text/x-python",
   "name": "python",
   "nbconvert_exporter": "python",
   "pygments_lexer": "ipython3",
   "version": "3.11.5"
  }
 },
 "nbformat": 4,
 "nbformat_minor": 5
}
