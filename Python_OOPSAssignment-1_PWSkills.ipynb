{
 "cells": [
  {
   "cell_type": "markdown",
   "id": "06f0a25f",
   "metadata": {},
   "source": [
    "#  Python_OOPSAssignment-1"
   ]
  },
  {
   "cell_type": "markdown",
   "id": "b354d9d5",
   "metadata": {},
   "source": [
    "Q1. Explain Class and Object with respect to Object-Oriented Programming. Give a suitable example."
   ]
  },
  {
   "cell_type": "code",
   "execution_count": 3,
   "id": "791f137a",
   "metadata": {},
   "outputs": [
    {
     "name": "stdout",
     "output_type": "stream",
     "text": [
      "Car: 2020 Toyota Camry\n",
      "Car: 2018 Ford Mustang\n"
     ]
    }
   ],
   "source": [
    "# Define a class named 'Car'\n",
    "class Car:\n",
    "\n",
    "    def __init__(self, make, model, year):\n",
    "        self.make = make        # Attribute: Make of the car\n",
    "        self.model = model      # Attribute: Model of the car\n",
    "        self.year = year        # Attribute: Year of manufacture\n",
    "\n",
    "\n",
    "    def display_info(self):\n",
    "        print(f\"Car: {self.year} {self.make} {self.model}\")\n",
    "\n",
    "car1 = Car(\"Toyota\", \"Camry\", 2020)\n",
    "car2 = Car(\"Ford\", \"Mustang\", 2018)\n",
    "\n",
    "car1.display_info()  # Output: Car: 2020 Toyota Camry\n",
    "car2.display_info()  # Output: Car: 2018 Ford Mustang\n"
   ]
  },
  {
   "cell_type": "markdown",
   "id": "801d2c7a",
   "metadata": {},
   "source": [
    "Q2. Name the four pillars of OOPs."
   ]
  },
  {
   "cell_type": "markdown",
   "id": "30bf40ca",
   "metadata": {},
   "source": [
    "Encapsulation:\n",
    "Abstraction: \n",
    "Inheritance:\n",
    "Polymorphism: "
   ]
  },
  {
   "cell_type": "markdown",
   "id": "34cfbcea",
   "metadata": {},
   "source": [
    "Q3. Explain why the __init__() function is used. Give a suitable example."
   ]
  },
  {
   "cell_type": "code",
   "execution_count": 5,
   "id": "cffea8f9",
   "metadata": {},
   "outputs": [
    {
     "name": "stdout",
     "output_type": "stream",
     "text": [
      "Area of the rectangle: 50\n"
     ]
    }
   ],
   "source": [
    "class Rectangle:\n",
    "    def __init__(self, width, height):\n",
    "        self.width = width    \n",
    "        self.height = height  \n",
    "\n",
    "    def area(self):\n",
    "        return self.width * self.height\n",
    "\n",
    "# Create a Rectangle object with width 5 and height 10\n",
    "rect = Rectangle(5, 10)\n",
    "\n",
    "print(\"Area of the rectangle:\", rect.area())  \n"
   ]
  },
  {
   "cell_type": "markdown",
   "id": "ab3ec285",
   "metadata": {},
   "source": [
    "Q4. Why self is used in OOPs?"
   ]
  },
  {
   "cell_type": "code",
   "execution_count": 7,
   "id": "b3e7161c",
   "metadata": {},
   "outputs": [
    {
     "name": "stdout",
     "output_type": "stream",
     "text": [
      "Make: Toyota, Model: Camry\n",
      "Make: Ford, Model: Mustang\n"
     ]
    }
   ],
   "source": [
    "class Car:\n",
    "    def __init__(self, make, model):\n",
    "        self.make = make    \n",
    "        self.model = model  \n",
    "\n",
    "    def display_info(self):\n",
    "        print(f\"Make: {self.make}, Model: {self.model}\")\n",
    "\n",
    "# Create two Car objects\n",
    "car1 = Car(\"Toyota\", \"Camry\")\n",
    "car2 = Car(\"Ford\", \"Mustang\")\n",
    "\n",
    "# Call display_info() method on each object\n",
    "car1.display_info()  # Output: Make: Toyota, Model: Camry\n",
    "car2.display_info()  # Output: Make: Ford, Model: Mustang\n"
   ]
  },
  {
   "cell_type": "markdown",
   "id": "e8493c5d",
   "metadata": {},
   "source": [
    "Q5. What is inheritance? Give an example for each type of inheritance."
   ]
  },
  {
   "cell_type": "code",
   "execution_count": 8,
   "id": "af0e8d7d",
   "metadata": {},
   "outputs": [
    {
     "name": "stdout",
     "output_type": "stream",
     "text": [
      "Animal speaks\n",
      "Dog barks\n"
     ]
    }
   ],
   "source": [
    "class Animal:\n",
    "    def speak(self):\n",
    "        print(\"Animal speaks\")\n",
    "\n",
    "class Dog(Animal):  # Dog is a subclass of Animal\n",
    "    def bark(self):\n",
    "        print(\"Dog barks\")\n",
    "\n",
    "dog = Dog()\n",
    "dog.speak()  # Output: Animal speaks\n",
    "dog.bark()   # Output: Dog barks\n"
   ]
  },
  {
   "cell_type": "code",
   "execution_count": null,
   "id": "82e8733b",
   "metadata": {},
   "outputs": [],
   "source": []
  }
 ],
 "metadata": {
  "kernelspec": {
   "display_name": "Python 3 (ipykernel)",
   "language": "python",
   "name": "python3"
  },
  "language_info": {
   "codemirror_mode": {
    "name": "ipython",
    "version": 3
   },
   "file_extension": ".py",
   "mimetype": "text/x-python",
   "name": "python",
   "nbconvert_exporter": "python",
   "pygments_lexer": "ipython3",
   "version": "3.11.5"
  }
 },
 "nbformat": 4,
 "nbformat_minor": 5
}
