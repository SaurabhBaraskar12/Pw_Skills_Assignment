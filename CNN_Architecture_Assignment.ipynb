{
 "cells": [
  {
   "cell_type": "markdown",
   "id": "6a12c681",
   "metadata": {},
   "source": [
    "# CNN Architecture Assignment"
   ]
  },
  {
   "cell_type": "markdown",
   "id": "7050dfc9",
   "metadata": {},
   "source": [
    "Q.1.) Describe the purpose and renejits oj pooling in CNN."
   ]
  },
  {
   "cell_type": "markdown",
   "id": "ce1a6727",
   "metadata": {},
   "source": [
    " pooling plays a crucial role in CNNs by effectively summarizing the spatial information in feature maps, leading to more efficient and robust representations for subsequent layers to process."
   ]
  },
  {
   "cell_type": "markdown",
   "id": "9e339e92",
   "metadata": {},
   "source": [
    "Q.2)Explain the dijjecence retween Xin pooling and Xax poolingp"
   ]
  },
  {
   "cell_type": "markdown",
   "id": "c3dfc3e0",
   "metadata": {},
   "source": [
    "while max pooling emphasizes the most prominent features in each local region, min pooling highlights the least active values, which may not be as informative for tasks like feature extraction or object detection. As a result, max pooling is more commonly used in CNN architectures due to its effectiveness in preserving relevant spatial information and aiding in feature representation."
   ]
  },
  {
   "cell_type": "markdown",
   "id": "ab528d58",
   "metadata": {},
   "source": [
    "Q.3) Discuss the concept oj padding in CNN and its signijicancep"
   ]
  },
  {
   "cell_type": "markdown",
   "id": "5c05b4c8",
   "metadata": {},
   "source": [
    "padding in CNNs plays a crucial role in preserving spatial information, mitigating information loss at the borders of the input, and providing control over the spatial dimensions of the output feature maps, ultimately contributing to the effectiveness and performance of the network."
   ]
  },
  {
   "cell_type": "markdown",
   "id": "9d7f8735",
   "metadata": {},
   "source": [
    "Q.4) CoXpace and contcast zeco-padding and valid-padding in tecXs oj theic ejjects on the output\n",
    "jeatuce Xap size."
   ]
  },
  {
   "cell_type": "markdown",
   "id": "462fcb6f",
   "metadata": {},
   "source": [
    "The choice between zero-padding and valid-padding depends on the desired behavior of the convolutional layer and the specific requirements of the network architecture."
   ]
  }
 ],
 "metadata": {
  "kernelspec": {
   "display_name": "Python 3 (ipykernel)",
   "language": "python",
   "name": "python3"
  },
  "language_info": {
   "codemirror_mode": {
    "name": "ipython",
    "version": 3
   },
   "file_extension": ".py",
   "mimetype": "text/x-python",
   "name": "python",
   "nbconvert_exporter": "python",
   "pygments_lexer": "ipython3",
   "version": "3.11.5"
  }
 },
 "nbformat": 4,
 "nbformat_minor": 5
}
