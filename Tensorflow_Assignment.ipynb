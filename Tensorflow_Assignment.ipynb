{
 "cells": [
  {
   "cell_type": "markdown",
   "id": "72936e1d",
   "metadata": {},
   "source": [
    "# Tensorflow Assignment"
   ]
  },
  {
   "cell_type": "markdown",
   "id": "dd5f4f69",
   "metadata": {},
   "source": [
    "Q.1 What are the different data structures used in Tensorflow?. Give some examples."
   ]
  },
  {
   "cell_type": "markdown",
   "id": "19871c0d",
   "metadata": {},
   "source": [
    "Tensors: Tensors are the core data structure in TensorFlow. They are multidimensional arrays with a uniform data type. Tensors can be scalars (0-dimensional), vectors (1-dimensional), matrices (2-dimensional), or higher-dimensional arrays. They represent the inputs, outputs, and intermediate values in TensorFlow computations.\n",
    "Variables: Variables are mutable tensors that hold values which can be updated during the execution of a TensorFlow graph. They are typically used to represent model parameters that need to be optimized during training.\n",
    "Constants: Constants are immutable tensors whose values cannot be changed during execution. They are used to represent fixed inputs, hyperparameters, or other constants in a TensorFlow graph.\n",
    "Sparse Tensors: Sparse tensors are a specialized data structure used to efficiently represent tensors containing mostly zero values. They store only the non-zero elements along with their indices, which helps save memory and computation resources, especially for large-scale sparse data.\n",
    "Ragged Tensors: Ragged tensors are used to represent multi-dimensional arrays with non-uniform shapes. Unlike regular tensors where all dimensions must have the same size, ragged tensors allow for varying lengths along different dimensions. They are particularly useful for handling sequences of variable-length data, such as sentences of different lengths in natural language processing tasks."
   ]
  },
  {
   "cell_type": "markdown",
   "id": "f1cfcb00",
   "metadata": {},
   "source": [
    "Q.2  How does the TensorFlow constant differ from a TensorFlow variable? Explain with an examplec"
   ]
  },
  {
   "cell_type": "markdown",
   "id": "8e8173c7",
   "metadata": {},
   "source": [
    "the key difference between TensorFlow constants and variables lies in their mutability. Constants are immutable and their values remain fixed throughout the execution of a TensorFlow graph, while variables are mutable and can be updated during execution, making them suitable for representing parameters that need to be optimized, such as in machine learning models."
   ]
  },
  {
   "cell_type": "markdown",
   "id": "7b077d4f",
   "metadata": {},
   "source": [
    "Q.3 Describe the process of matrix addition, multiplication, and elementDwise operations in TensorFlow."
   ]
  },
  {
   "cell_type": "markdown",
   "id": "8e42f103",
   "metadata": {},
   "source": [
    "TensorFlow provides convenient functions and operators for performing matrix addition, multiplication, and element-wise operations efficiently, making it easy to work with linear algebra operations in neural network computations and other numerical tasks.\n",
    "\n",
    "\n",
    "\n",
    "\n",
    "\n",
    "\n"
   ]
  },
  {
   "cell_type": "markdown",
   "id": "9a862e5a",
   "metadata": {},
   "source": [
    "# Practical Implementation"
   ]
  },
  {
   "cell_type": "markdown",
   "id": "5e2129f5",
   "metadata": {},
   "source": [
    "Task 1: Creating and Manipulating Matricek\n",
    "Q.1 Create a normal matrix A with dimensions 2x2, using TensorFlow's random_normal function. Display the\n",
    "values of matrix Ac"
   ]
  },
  {
   "cell_type": "markdown",
   "id": "dc967a24",
   "metadata": {},
   "source": [
    "We import TensorFlow as tf.\n",
    "We create a 2x2 matrix A using the tf.random.normal function. This function generates random values from a normal distribution.\n",
    "We display the values of matrix A using the numpy() method, which converts the TensorFlow tensor to a NumPy array for easier printing.\n",
    "This will output the values of matrix \n",
    "𝐴\n",
    "A, which are randomly generated from a normal distribution."
   ]
  },
  {
   "cell_type": "markdown",
   "id": "7841f3dc",
   "metadata": {},
   "source": [
    "Q.2 Create a Gaussian matrix B with dimensions x, using TensorFlow's truncated_normal function. Display\n",
    "the values of matrix Bc."
   ]
  },
  {
   "cell_type": "code",
   "execution_count": null,
   "id": "d32e7264",
   "metadata": {},
   "outputs": [],
   "source": [
    "We import TensorFlow as tf.\n",
    "We define the dimensions \n",
    "𝑥\n",
    "x for the Gaussian matrix \n",
    "𝐵\n",
    "B.\n",
    "We create a Gaussian matrix \n",
    "𝐵\n",
    "B with dimensions \n",
    "𝑥\n",
    "×\n",
    "𝑥\n",
    "x×x using the tf.truncated_normal function. This function generates random values from a truncated normal distribution with the specified mean and standard deviation.\n",
    "We display the values of matrix \n",
    "𝐵\n",
    "B using the numpy() method, which converts the TensorFlow tensor to a NumPy array for easier printing.\n",
    "This will output the values of matrix \n",
    "𝐵\n",
    "B, which are randomly generated from a truncated normal distribution with mean \n",
    "0.0\n",
    "0.0 and standard deviation \n",
    "1.0\n",
    "1.0. Adjust the value of \n",
    "𝑥\n",
    "x as needed for your specific use case.\n",
    "\n",
    "\n",
    "\n",
    "\n",
    "\n",
    "\n"
   ]
  }
 ],
 "metadata": {
  "kernelspec": {
   "display_name": "Python 3 (ipykernel)",
   "language": "python",
   "name": "python3"
  },
  "language_info": {
   "codemirror_mode": {
    "name": "ipython",
    "version": 3
   },
   "file_extension": ".py",
   "mimetype": "text/x-python",
   "name": "python",
   "nbconvert_exporter": "python",
   "pygments_lexer": "ipython3",
   "version": "3.11.5"
  }
 },
 "nbformat": 4,
 "nbformat_minor": 5
}
