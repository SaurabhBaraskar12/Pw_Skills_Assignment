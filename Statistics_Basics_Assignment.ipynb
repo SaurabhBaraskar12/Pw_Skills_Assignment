{
 "cells": [
  {
   "cell_type": "markdown",
   "id": "43f6f3ef",
   "metadata": {},
   "source": [
    "# Statistics Assignment"
   ]
  },
  {
   "cell_type": "markdown",
   "id": "efe0d4ea",
   "metadata": {},
   "source": [
    "Q1. What is Statistics?"
   ]
  },
  {
   "cell_type": "markdown",
   "id": "5bf13c60",
   "metadata": {},
   "source": [
    "\n",
    "Statistics is a math branch dealing with data collection, analysis, interpretation, and presentation. It helps understand patterns, make predictions, and draw conclusions across various fields like science, economics, and medicine."
   ]
  },
  {
   "cell_type": "markdown",
   "id": "22c63118",
   "metadata": {},
   "source": [
    "Q2. Define the different types of statistics and give an example of when each type might be used."
   ]
  },
  {
   "cell_type": "markdown",
   "id": "ebb548ea",
   "metadata": {},
   "source": [
    "Descriptive Statistics: Summarizes and describes data features.\n",
    "Example: Analyzing student scores in a class to find the average, median, and spread of scores.\n",
    "\n",
    "Inferential Statistics: Makes predictions about populations based on sample data.\n",
    "Example: Testing whether a new teaching method improves student performance by comparing two groups and inferring effectiveness for the wider student population."
   ]
  },
  {
   "cell_type": "markdown",
   "id": "5b2f427f",
   "metadata": {},
   "source": [
    "Q3. What are the different types of data and how do they differ from each other? Provide an example of\n",
    "each type of data."
   ]
  },
  {
   "cell_type": "markdown",
   "id": "9b167863",
   "metadata": {},
   "source": [
    "Nominal Data: \n",
    "\n",
    "Ordinal Data: \n",
    "\n",
    "Interval Data: \n",
    "\n",
    "Ratio Data: "
   ]
  },
  {
   "cell_type": "markdown",
   "id": "505a0e16",
   "metadata": {},
   "source": [
    "Q4. Categorise the following datasets with respect to quantitative and qualitative data types:\n",
    "(i) Grading in exam: A+, A, B+, B, C+, C, D, E\n",
    "(ii) Colour of mangoes: yellow, green, orange, red\n",
    "(iii) Height data of a class: [178.9, 179, 179.5, 176, 177.2, 178.3, 175.8,...]\n",
    "(iv) Number of mangoes exported by a farm: [500, 600, 478, 672, ...]"
   ]
  },
  {
   "cell_type": "markdown",
   "id": "91191f06",
   "metadata": {},
   "source": [
    "(i) Grading in exam: \n",
    "(ii) Colour of mangoes: \n",
    "(iii) Height data of a class: \n",
    "(iv) Number of mangoes exported by a farm: "
   ]
  },
  {
   "cell_type": "markdown",
   "id": "7bf1277c",
   "metadata": {},
   "source": [
    "Q5. Explain the concept of levels of measurement and give an example of a variable for each level."
   ]
  },
  {
   "cell_type": "markdown",
   "id": "ab0e8c4c",
   "metadata": {},
   "source": [
    "Nominal Level: \n",
    "Ordinal Level: \n",
    "Interval Level: \n",
    "Ratio Level:"
   ]
  },
  {
   "cell_type": "markdown",
   "id": "6b8053e5",
   "metadata": {},
   "source": [
    "Q6. Why is it important to understand the level of measurement when analyzing data? Provide an\n",
    "example to illustrate your answer."
   ]
  },
  {
   "cell_type": "markdown",
   "id": "9669360c",
   "metadata": {},
   "source": [
    "\n",
    "Understanding the level of measurement is important because it determines the types of statistical analyses that can be accurately performed on the data. Using the wrong analysis for a given level can lead to incorrect conclusions. For example, treating ordinal data as if it were interval or ratio could distort results. Knowing the level helps apply appropriate statistical methods, ensuring accurate interpretation and decision-making.\n"
   ]
  },
  {
   "cell_type": "markdown",
   "id": "829b7795",
   "metadata": {},
   "source": [
    "Q7. How nominal data type is different from ordinal data type.\n"
   ]
  },
  {
   "cell_type": "markdown",
   "id": "a787412b",
   "metadata": {},
   "source": [
    "Nominal data: Categories without order. Examples: Gender, colors.\n",
    "\n",
    "Ordinal data: Categories with order. Examples: Educational levels, satisfaction ratings."
   ]
  },
  {
   "cell_type": "markdown",
   "id": "ad4103b1",
   "metadata": {},
   "source": [
    "Q8. Which type of plot can be used to display data in terms of range?"
   ]
  },
  {
   "cell_type": "markdown",
   "id": "efaf495a",
   "metadata": {},
   "source": [
    "\n",
    "A box plot, also known as a box-and-whisker plot, is commonly used to display data in terms of range"
   ]
  },
  {
   "cell_type": "markdown",
   "id": "80d7c745",
   "metadata": {},
   "source": [
    "Q9. Describe the difference between descriptive and inferential statistics. Give an example of each\n",
    "type of statistics and explain how they are used."
   ]
  },
  {
   "cell_type": "markdown",
   "id": "6a205b33",
   "metadata": {},
   "source": [
    "Descriptive statistics summarize and describe data features within a sample, like averages or spreads. For instance, calculating the average income of employees in a company.\n",
    "Inferential statistics make predictions or inferences about populations based on sample data, like testing if there's a significant difference in income between two departments.\n",
    "\n",
    "\n",
    "\n",
    "\n",
    "\n",
    "\n"
   ]
  },
  {
   "cell_type": "markdown",
   "id": "4c99a527",
   "metadata": {},
   "source": [
    "Q10. What are some common measures of central tendency and variability used in statistics? Explain\n",
    "how each measure can be used to describe a dataset."
   ]
  },
  {
   "cell_type": "markdown",
   "id": "26819ab4",
   "metadata": {},
   "source": [
    "Central tendency:\n",
    "\n",
    "Mean: Average.\n",
    "Median: Middle value.\n",
    "Mode: Most common value.\n",
    "Variability:\n",
    "\n",
    "Range: Difference between max and min.\n",
    "Variance: Average squared deviation.\n",
    "Standard deviation: Average distance from the mean."
   ]
  },
  {
   "cell_type": "code",
   "execution_count": null,
   "id": "eaf05db6",
   "metadata": {},
   "outputs": [],
   "source": []
  }
 ],
 "metadata": {
  "kernelspec": {
   "display_name": "Python 3 (ipykernel)",
   "language": "python",
   "name": "python3"
  },
  "language_info": {
   "codemirror_mode": {
    "name": "ipython",
    "version": 3
   },
   "file_extension": ".py",
   "mimetype": "text/x-python",
   "name": "python",
   "nbconvert_exporter": "python",
   "pygments_lexer": "ipython3",
   "version": "3.11.5"
  }
 },
 "nbformat": 4,
 "nbformat_minor": 5
}
