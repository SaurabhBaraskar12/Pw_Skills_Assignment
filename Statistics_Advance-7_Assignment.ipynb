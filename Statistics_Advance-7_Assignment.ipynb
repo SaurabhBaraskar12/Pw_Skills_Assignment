{
 "cells": [
  {
   "cell_type": "markdown",
   "id": "ead5fc2e",
   "metadata": {},
   "source": [
    "# Statistics Advance-7 Assignment"
   ]
  },
  {
   "cell_type": "markdown",
   "id": "9feeb71c",
   "metadata": {},
   "source": [
    "Q1. Write a Python function that takes in two arrays of data and calculates the F-value for a variance ratio\n",
    "test. The function should return the F-value and the corresponding p-value for the test."
   ]
  },
  {
   "cell_type": "code",
   "execution_count": 1,
   "id": "088ff7be",
   "metadata": {},
   "outputs": [
    {
     "name": "stdout",
     "output_type": "stream",
     "text": [
      "F-value: 1.0\n",
      "p-value: 1.0\n"
     ]
    }
   ],
   "source": [
    "import numpy as np\n",
    "from scipy.stats import f\n",
    "\n",
    "def variance_ratio_test(data1, data2):\n",
    "   \n",
    "    # Calculate variances\n",
    "    var1 = np.var(data1, ddof=1)  # ddof=1 for sample variance\n",
    "    var2 = np.var(data2, ddof=1)\n",
    "\n",
    "    # Compute F-value\n",
    "    F_value = var1 / var2 if var1 >= var2 else var2 / var1\n",
    "\n",
    "    # Calculate degrees of freedom\n",
    "    df1 = len(data1) - 1\n",
    "    df2 = len(data2) - 1\n",
    "\n",
    "    # Compute p-value\n",
    "    p_value = f.sf(F_value, df1, df2) * 2  # Multiply by 2 for two-tailed test\n",
    "\n",
    "    return F_value, p_value\n",
    "\n",
    "# Example usage:\n",
    "data1 = [1, 2, 3, 4, 5]\n",
    "data2 = [3, 4, 5, 6, 7]\n",
    "F_value, p_value = variance_ratio_test(data1, data2)\n",
    "print(\"F-value:\", F_value)\n",
    "print(\"p-value:\", p_value)\n"
   ]
  },
  {
   "cell_type": "markdown",
   "id": "fa00b8a1",
   "metadata": {},
   "source": [
    "Q2. Given a significance level of 0.05 and the degrees of freedom for the numerator and denominator of an\n",
    "F-distribution, write a Python function that returns the critical F-value for a two-tailed test.\n"
   ]
  },
  {
   "cell_type": "code",
   "execution_count": 2,
   "id": "7585924b",
   "metadata": {},
   "outputs": [
    {
     "name": "stdout",
     "output_type": "stream",
     "text": [
      "Critical F-value: 3.8586986662732143\n"
     ]
    }
   ],
   "source": [
    "from scipy.stats import f\n",
    "\n",
    "def critical_f_value(alpha, dfn, dfd):\n",
    "  \n",
    "    return f.ppf(1 - alpha/2, dfn, dfd)\n",
    "\n",
    "# Example usage:\n",
    "alpha = 0.05\n",
    "dfn = 3  # Degrees of freedom for the numerator\n",
    "dfd = 20  # Degrees of freedom for the denominator\n",
    "critical_F = critical_f_value(alpha, dfn, dfd)\n",
    "print(\"Critical F-value:\", critical_F)\n"
   ]
  },
  {
   "cell_type": "markdown",
   "id": "81f2f646",
   "metadata": {},
   "source": [
    "Q3. Write a Python program that generates random samples from two normal distributions with known\n",
    "\n",
    "variances and uses an F-test to determine if the variances are equal. The program should output the F-\n",
    "value, degrees of freedom, and p-value for the test."
   ]
  },
  {
   "cell_type": "code",
   "execution_count": 3,
   "id": "eb4175ed",
   "metadata": {},
   "outputs": [
    {
     "name": "stdout",
     "output_type": "stream",
     "text": [
      "F-value: 1.4485238079262472\n",
      "Degrees of freedom (numerator): 29\n",
      "Degrees of freedom (denominator): 29\n",
      "p-value: 0.32394803632962454\n"
     ]
    }
   ],
   "source": [
    "import numpy as np\n",
    "from scipy.stats import f\n",
    "\n",
    "def variance_equality_test(data1, data2):\n",
    "    \"\"\"\n",
    "    Perform an F-test to determine if the variances of two samples are equal.\n",
    "\n",
    "    Parameters:\n",
    "    - data1: First array of data (sample 1)\n",
    "    - data2: Second array of data (sample 2)\n",
    "\n",
    "    Returns:\n",
    "    - F_value: The computed F-value for the test\n",
    "    - dfn: Degrees of freedom for the numerator\n",
    "    - dfd: Degrees of freedom for the denominator\n",
    "    - p_value: The corresponding p-value for the test\n",
    "    \"\"\"\n",
    "    # Calculate variances\n",
    "    var1 = np.var(data1, ddof=1)  # ddof=1 for sample variance\n",
    "    var2 = np.var(data2, ddof=1)\n",
    "\n",
    "    # Determine which variance is larger\n",
    "    larger_var = var1 if var1 >= var2 else var2\n",
    "    smaller_var = var2 if var1 >= var2 else var1\n",
    "\n",
    "    # Compute F-value\n",
    "    F_value = larger_var / smaller_var\n",
    "\n",
    "    # Calculate degrees of freedom\n",
    "    dfn = len(data1) - 1\n",
    "    dfd = len(data2) - 1\n",
    "\n",
    "    # Compute p-value\n",
    "    p_value = f.sf(F_value, dfn, dfd) * 2  # Multiply by 2 for two-tailed test\n",
    "\n",
    "    return F_value, dfn, dfd, p_value\n",
    "\n",
    "# Generate random samples from two normal distributions\n",
    "np.random.seed(0)  # for reproducibility\n",
    "sample_size = 30\n",
    "mean1, mean2 = 0, 0  # means of the distributions\n",
    "std_dev1, std_dev2 = 2, 2  # standard deviations of the distributions\n",
    "data1 = np.random.normal(mean1, std_dev1, sample_size)\n",
    "data2 = np.random.normal(mean2, std_dev2, sample_size)\n",
    "\n",
    "# Perform F-test for variance equality\n",
    "F_value, dfn, dfd, p_value = variance_equality_test(data1, data2)\n",
    "\n",
    "# Output results\n",
    "print(\"F-value:\", F_value)\n",
    "print(\"Degrees of freedom (numerator):\", dfn)\n",
    "print(\"Degrees of freedom (denominator):\", dfd)\n",
    "print(\"p-value:\", p_value)\n"
   ]
  },
  {
   "cell_type": "markdown",
   "id": "d1075a93",
   "metadata": {},
   "source": [
    "Q4.The variances of two populations are known to be 10 and 15. A sample of 12 observations is taken from\n",
    "each population. Conduct an F-test at the 5% significance level to determine if the variances are\n",
    "significantly different."
   ]
  },
  {
   "cell_type": "markdown",
   "id": "f2326464",
   "metadata": {},
   "source": [
    "from scipy.stats import f\n",
    "\n",
    "variance1 = 10\n",
    "variance2 = 15\n",
    "sample_size = 12\n",
    "\n",
    "dfn = sample_size - 1\n",
    "dfd = sample_size - 1\n"
   ]
  },
  {
   "cell_type": "markdown",
   "id": "2f4420f6",
   "metadata": {},
   "source": [
    "Q5. A manufacturer claims that the variance of the diameter of a certain product is 0.005. A sample of 25\n",
    "products is taken, and the sample variance is found to be 0.006. Conduct an F-test at the 1% significance\n",
    "level to determine if the claim is justified."
   ]
  },
  {
   "cell_type": "code",
   "execution_count": 4,
   "id": "299a93bc",
   "metadata": {},
   "outputs": [],
   "source": [
    "from scipy.stats import f\n",
    "\n",
    "# Given data\n",
    "claimed_variance = 0.005\n",
    "sample_variance = 0.006\n",
    "sample_size = 25\n",
    "\n",
    "# Calculate degrees of freedom\n",
    "dfn = sample_size - 1\n",
    "dfd = sample_size - 1\n",
    "\n",
    "# Compute F-value\n",
    "F_value = sample_variance / claimed_variance\n",
    "\n",
    "# Calculate critical F-value\n",
    "alpha = 0\n"
   ]
  },
  {
   "cell_type": "markdown",
   "id": "8ede3916",
   "metadata": {},
   "source": [
    "Q6. Write a Python function that takes in the degrees of freedom for the numerator and denominator of an\n",
    "F-distribution and calculates the mean and variance of the distribution. The function should return the\n",
    "mean and variance as a tuple."
   ]
  },
  {
   "cell_type": "code",
   "execution_count": 5,
   "id": "286ef84e",
   "metadata": {},
   "outputs": [
    {
     "ename": "SyntaxError",
     "evalue": "incomplete input (3013012596.py, line 15)",
     "output_type": "error",
     "traceback": [
      "\u001b[1;36m  Cell \u001b[1;32mIn[5], line 15\u001b[1;36m\u001b[0m\n\u001b[1;33m    print(\u001b[0m\n\u001b[1;37m          ^\u001b[0m\n\u001b[1;31mSyntaxError\u001b[0m\u001b[1;31m:\u001b[0m incomplete input\n"
     ]
    }
   ],
   "source": [
    "def f_distribution_mean_and_variance(dfn, dfd):\n",
    "  \n",
    "    if dfd <= 2 or dfd <= 4:\n",
    "        raise ValueError(\"Degrees of freedom for the denominator must be greater than 2 and 4, respectively.\")\n",
    "\n",
    "    mean = dfd / (dfd - 2)\n",
    "    variance = (2 * dfd**2 * (dfn + dfd - 2)) / (dfn * (dfd - 2)**2 * (dfd - 4))\n",
    "    \n",
    "    return mean, variance\n",
    "\n",
    "# Example usage:\n",
    "dfn = 5\n",
    "dfd = 10\n",
    "mean, variance = f_distribution_mean_and_variance(dfn, dfd)\n",
    "print(\n"
   ]
  },
  {
   "cell_type": "markdown",
   "id": "df60f3c5",
   "metadata": {},
   "source": [
    "Q7. A random sample of 10 measurements is taken from a normal population with unknown variance. The\n",
    "sample variance is found to be 25. Another random sample of 15 measurements is taken from another\n",
    "normal population with unknown variance, and the sample variance is found to be 20. Conduct an F-test\n",
    "at the 10% significance level to determine if the variances are significantly different."
   ]
  },
  {
   "cell_type": "code",
   "execution_count": 6,
   "id": "3b5b722a",
   "metadata": {},
   "outputs": [
    {
     "ename": "NameError",
     "evalue": "name 'critica' is not defined",
     "output_type": "error",
     "traceback": [
      "\u001b[1;31m---------------------------------------------------------------------------\u001b[0m",
      "\u001b[1;31mNameError\u001b[0m                                 Traceback (most recent call last)",
      "Cell \u001b[1;32mIn[6], line 18\u001b[0m\n\u001b[0;32m     16\u001b[0m \u001b[38;5;66;03m# Calculate critical F-value\u001b[39;00m\n\u001b[0;32m     17\u001b[0m alpha \u001b[38;5;241m=\u001b[39m \u001b[38;5;241m0.10\u001b[39m\n\u001b[1;32m---> 18\u001b[0m critica\n",
      "\u001b[1;31mNameError\u001b[0m: name 'critica' is not defined"
     ]
    }
   ],
   "source": [
    "from scipy.stats import f\n",
    "\n",
    "# Given data\n",
    "sample_variance1 = 25\n",
    "sample_variance2 = 20\n",
    "sample_size1 = 10\n",
    "sample_size2 = 15\n",
    "\n",
    "# Calculate degrees of freedom\n",
    "dfn = sample_size1 - 1\n",
    "dfd = sample_size2 - 1\n",
    "\n",
    "# Compute F-value\n",
    "F_value = sample_variance1 / sample_variance2\n",
    "\n",
    "# Calculate critical F-value\n",
    "alpha = 0.10\n",
    "critica\n"
   ]
  },
  {
   "cell_type": "markdown",
   "id": "ab1f1ca3",
   "metadata": {},
   "source": [
    "Q8. The following data represent the waiting times in minutes at two different restaurants on a Saturday\n",
    "night: Restaurant A: 24, 25, 28, 23, 22, 20, 27; Restaurant B: 31, 33, 35, 30, 32, 36. Conduct an F-test at the 5%\n",
    "significance level to determine if the variances are significantly different."
   ]
  },
  {
   "cell_type": "code",
   "execution_count": 7,
   "id": "84c5568d",
   "metadata": {},
   "outputs": [],
   "source": [
    "from scipy.stats import f\n",
    "import numpy as np\n",
    "\n",
    "# Given data\n",
    "waiting_times_a = np.array([24, 25, 28, 23, 22, 20, 27])\n",
    "waiting_times_b = np.array([31, 33, 35, 30, 32, 36])\n",
    "\n",
    "# Calculate sample variances\n",
    "sample_variance_a = np.var(waiting_times_a, ddof=1)\n",
    "sample_variance_b = np.var(waiting_times_b, ddof=1)\n",
    "\n",
    "#\n"
   ]
  },
  {
   "cell_type": "markdown",
   "id": "44bdf20b",
   "metadata": {},
   "source": [
    "Q9. The following data represent the test scores of two groups of students: Group A: 80, 85, 90, 92, 87, 83;\n",
    "Group B: 75, 78, 82, 79, 81, 84. Conduct an F-test at the 1% significance level to determine if the variances\n",
    "are significantly different."
   ]
  },
  {
   "cell_type": "markdown",
   "id": "1feab683",
   "metadata": {},
   "source": [
    "Calculate the sample variances for both groups.\n",
    "Calculate the degrees of freedom for the numerator (df₁) and denominator (df₂).\n",
    "Compute the F-value.\n",
    "Determine the critical F-value at the 1% significance level.\n",
    "Compare the calculated F-value with the critical F-value."
   ]
  },
  {
   "cell_type": "code",
   "execution_count": null,
   "id": "e7674fd7",
   "metadata": {},
   "outputs": [],
   "source": []
  }
 ],
 "metadata": {
  "kernelspec": {
   "display_name": "Python 3 (ipykernel)",
   "language": "python",
   "name": "python3"
  },
  "language_info": {
   "codemirror_mode": {
    "name": "ipython",
    "version": 3
   },
   "file_extension": ".py",
   "mimetype": "text/x-python",
   "name": "python",
   "nbconvert_exporter": "python",
   "pygments_lexer": "ipython3",
   "version": "3.11.5"
  }
 },
 "nbformat": 4,
 "nbformat_minor": 5
}
