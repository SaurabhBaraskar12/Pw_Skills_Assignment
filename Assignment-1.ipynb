{
 "cells": [
  {
   "cell_type": "markdown",
   "id": "09d09803",
   "metadata": {},
   "source": [
    "# Assignment-1"
   ]
  },
  {
   "cell_type": "markdown",
   "id": "9e19933f",
   "metadata": {},
   "source": [
    "# Q1. Create one variable containing following type of data:\n",
    "(i) string\n",
    "(ii) list\n",
    "(iii) float\n",
    "(iv) tuple"
   ]
  },
  {
   "cell_type": "code",
   "execution_count": 3,
   "id": "99d00a3b",
   "metadata": {},
   "outputs": [],
   "source": [
    "# (i) String\n",
    "my_string = \"Hello, world!\"\n",
    "\n",
    "# (ii) List\n",
    "my_list = [1, 2, 3, 4, 5]\n",
    "\n",
    "# (iii) Float\n",
    "my_float = 3.14\n",
    "\n",
    "# (iv) Tuple\n",
    "my_tuple = (1, 2, 3, 4, 5)"
   ]
  },
  {
   "cell_type": "markdown",
   "id": "5b86df64",
   "metadata": {},
   "source": [
    " # Q2. Given are some following variables containing data:\n",
    "(i) var1 = ‘ ‘\n",
    "(ii) var2 = ‘[ DS , ML , Python]’\n",
    "(iii) var3 = [ ‘DS’ , ’ML’ , ‘Python’ ]\n",
    "(iv) var4 = 1."
   ]
  },
  {
   "cell_type": "code",
   "execution_count": 4,
   "id": "6e309f9b",
   "metadata": {},
   "outputs": [],
   "source": [
    "# (i) var1: string\n",
    "var1 = ''\n",
    "\n",
    "# (ii) var2: string\n",
    "var2 = '[ DS , ML , Python]'\n",
    "\n",
    "# (iii) var3: list\n",
    "var3 = ['DS', 'ML', 'Python']\n",
    "\n",
    "# (iv) var4: float\n",
    "var4 = 1.0\n",
    "\n",
    "# Basic operations/examples:\n",
    "\n",
    "# Concatenating strings\n",
    "concatenated_string = var1 + \"Hello\"\n",
    "\n",
    "# Accessing elements in a list\n",
    "first_element = var3[0]\n",
    "\n",
    "# Converting a string representation of a list to an actual list\n",
    "parsed_list = var2.strip('[]').split(', ')\n",
    "\n",
    "# Adding a number to a float\n",
    "new_float = var4 + 2.5\n"
   ]
  },
  {
   "cell_type": "markdown",
   "id": "bbb31512",
   "metadata": {},
   "source": [
    "# Q3. Explain the use of the following operators using an example:\n",
    "(i) /\n",
    "(ii) %\n",
    "(iii) //\n",
    "(iv) **"
   ]
  },
  {
   "cell_type": "code",
   "execution_count": 5,
   "id": "a588e604",
   "metadata": {},
   "outputs": [
    {
     "name": "stdout",
     "output_type": "stream",
     "text": [
      "3.3333333333333335\n"
     ]
    }
   ],
   "source": [
    "result = 10 / 3\n",
    "print(result)  # Output: 3.3333333333333335\n",
    "\n"
   ]
  },
  {
   "cell_type": "code",
   "execution_count": 6,
   "id": "cfdd4f79",
   "metadata": {},
   "outputs": [
    {
     "name": "stdout",
     "output_type": "stream",
     "text": [
      "1\n"
     ]
    }
   ],
   "source": [
    "remainder = 10 % 3\n",
    "print(remainder)  # Output: 1\n"
   ]
  },
  {
   "cell_type": "code",
   "execution_count": 7,
   "id": "6509df6a",
   "metadata": {},
   "outputs": [
    {
     "name": "stdout",
     "output_type": "stream",
     "text": [
      "3\n"
     ]
    }
   ],
   "source": [
    "result = 10 // 3\n",
    "print(result)  # Output: 3\n"
   ]
  },
  {
   "cell_type": "code",
   "execution_count": 8,
   "id": "09e876de",
   "metadata": {},
   "outputs": [
    {
     "name": "stdout",
     "output_type": "stream",
     "text": [
      "8\n"
     ]
    }
   ],
   "source": [
    "result = 2 ** 3\n",
    "print(result)  # Output: 8\n"
   ]
  },
  {
   "cell_type": "markdown",
   "id": "ecc56d21",
   "metadata": {},
   "source": [
    " Q4. Create a list of length 10 of your choice containing multiple types of data. Using for loop print the\n",
    "element and its data type."
   ]
  },
  {
   "cell_type": "code",
   "execution_count": 10,
   "id": "4c603ec6",
   "metadata": {},
   "outputs": [
    {
     "name": "stdout",
     "output_type": "stream",
     "text": [
      "Element: 10, Data Type: <class 'int'>\n",
      "Element: Hello, Data Type: <class 'str'>\n",
      "Element: 3.14, Data Type: <class 'float'>\n",
      "Element: True, Data Type: <class 'bool'>\n",
      "Element: [1, 2, 3], Data Type: <class 'list'>\n",
      "Element: {'key': 'value'}, Data Type: <class 'dict'>\n",
      "Element: (4, 5), Data Type: <class 'tuple'>\n",
      "Element: None, Data Type: <class 'NoneType'>\n",
      "Element: (5+3j), Data Type: <class 'complex'>\n",
      "Element: range(0, 5), Data Type: <class 'range'>\n"
     ]
    }
   ],
   "source": [
    "my_list = [10, \"Hello\", 3.14, True, [1, 2, 3], {'key': 'value'}, (4, 5), None, 5+3j, range(5)]\n",
    "\n",
    "for element in my_list:\n",
    "    print(f\"Element: {element}, Data Type: {type(element)}\")\n"
   ]
  },
  {
   "cell_type": "markdown",
   "id": "14278bce",
   "metadata": {},
   "source": [
    "Q5. Using a while loop, verify if the number A is purely divisible by number B and if so then how many\n",
    "times it can be divisible."
   ]
  },
  {
   "cell_type": "code",
   "execution_count": 11,
   "id": "061144cd",
   "metadata": {},
   "outputs": [
    {
     "name": "stdout",
     "output_type": "stream",
     "text": [
      "Enter number A: 3\n",
      "Enter number B: 4\n",
      "A is not purely divisible by B.\n"
     ]
    }
   ],
   "source": [
    "\n",
    "A = int(input(\"Enter number A: \"))\n",
    "B = int(input(\"Enter number B: \"))\n",
    "\n",
    "count = 0\n",
    "\n",
    "# Verify if A is divisible by B\n",
    "while A % B == 0:\n",
    "    # If A is divisible by B, update A to be the result of division\n",
    "    A /= B\n",
    "    # Increment the counter\n",
    "    count += 1\n",
    "\n",
    "if count > 0:\n",
    "    print(f\"{count} times. A is purely divisible by B.\")\n",
    "else:\n",
    "    print(\"A is not purely divisible by B.\")\n",
    "\n"
   ]
  },
  {
   "cell_type": "markdown",
   "id": "2abbdb86",
   "metadata": {},
   "source": [
    "Q6. Create a list containing 25 int type data. Using for loop and if-else condition print if the element is\n",
    "divisible by 3 or not."
   ]
  },
  {
   "cell_type": "code",
   "execution_count": 12,
   "id": "b0a0a456",
   "metadata": {},
   "outputs": [
    {
     "name": "stdout",
     "output_type": "stream",
     "text": [
      "1 is not divisible by 3\n",
      "2 is not divisible by 3\n",
      "3 is divisible by 3\n",
      "4 is not divisible by 3\n",
      "5 is not divisible by 3\n",
      "6 is divisible by 3\n",
      "7 is not divisible by 3\n",
      "8 is not divisible by 3\n",
      "9 is divisible by 3\n",
      "10 is not divisible by 3\n",
      "11 is not divisible by 3\n",
      "12 is divisible by 3\n",
      "13 is not divisible by 3\n",
      "14 is not divisible by 3\n",
      "15 is divisible by 3\n",
      "16 is not divisible by 3\n",
      "17 is not divisible by 3\n",
      "18 is divisible by 3\n",
      "19 is not divisible by 3\n",
      "20 is not divisible by 3\n",
      "21 is divisible by 3\n",
      "22 is not divisible by 3\n",
      "23 is not divisible by 3\n",
      "24 is divisible by 3\n",
      "25 is not divisible by 3\n"
     ]
    }
   ],
   "source": [
    "# Create a list containing 25 int type data\n",
    "my_list = [i for i in range(1, 26)]\n",
    "\n",
    "# Using for loop and if-else condition to print if the element is divisible by 3 or not\n",
    "for element in my_list:\n",
    "    if element % 3 == 0:\n",
    "        print(f\"{element} is divisible by 3\")\n",
    "    else:\n",
    "        print(f\"{element} is not divisible by 3\")\n"
   ]
  },
  {
   "cell_type": "markdown",
   "id": "6e2af46c",
   "metadata": {},
   "source": [
    "Q7. What do you understand about mutable and immutable data types? Give examples for both showing\n",
    "this property.\n"
   ]
  },
  {
   "cell_type": "code",
   "execution_count": 13,
   "id": "5283bdac",
   "metadata": {},
   "outputs": [
    {
     "name": "stdout",
     "output_type": "stream",
     "text": [
      "Before: 5\n",
      "After: 10\n"
     ]
    }
   ],
   "source": [
    "# Example of immutable data type - int\n",
    "x = 5\n",
    "print(\"Before:\", x)\n",
    "x = 10  # This creates a new int object with the value 10\n",
    "print(\"After:\", x)\n"
   ]
  },
  {
   "cell_type": "code",
   "execution_count": 14,
   "id": "85783485",
   "metadata": {},
   "outputs": [
    {
     "name": "stdout",
     "output_type": "stream",
     "text": [
      "Before: [1, 2, 3]\n",
      "After: [1, 2, 3, 4]\n"
     ]
    }
   ],
   "source": [
    "# Example of mutable data type - list\n",
    "my_list = [1, 2, 3]\n",
    "print(\"Before:\", my_list)\n",
    "my_list.append(4)  # This modifies the existing list\n",
    "print(\"After:\", my_list)\n"
   ]
  },
  {
   "cell_type": "code",
   "execution_count": null,
   "id": "575cb61c",
   "metadata": {},
   "outputs": [],
   "source": []
  }
 ],
 "metadata": {
  "kernelspec": {
   "display_name": "Python 3 (ipykernel)",
   "language": "python",
   "name": "python3"
  },
  "language_info": {
   "codemirror_mode": {
    "name": "ipython",
    "version": 3
   },
   "file_extension": ".py",
   "mimetype": "text/x-python",
   "name": "python",
   "nbconvert_exporter": "python",
   "pygments_lexer": "ipython3",
   "version": "3.11.5"
  }
 },
 "nbformat": 4,
 "nbformat_minor": 5
}
