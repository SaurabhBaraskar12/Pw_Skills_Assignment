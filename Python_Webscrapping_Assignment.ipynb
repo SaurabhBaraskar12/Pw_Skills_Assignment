{
 "cells": [
  {
   "cell_type": "markdown",
   "id": "3cb078dc",
   "metadata": {},
   "source": [
    "# WebScrapping Assignment"
   ]
  },
  {
   "cell_type": "markdown",
   "id": "2ecc7f99",
   "metadata": {},
   "source": [
    "Q1. What is Web Scraping? Why is it Used? Give three areas where Web Scraping is used to get data."
   ]
  },
  {
   "cell_type": "markdown",
   "id": "180b7250",
   "metadata": {},
   "source": [
    "Web scraping is extracting data from websites. It's used to gather information for analysis, research, or monitoring. Common areas include market research, business intelligence, and academic studies."
   ]
  },
  {
   "cell_type": "markdown",
   "id": "bea35565",
   "metadata": {},
   "source": [
    "Q2. What are the different methods used for Web Scraping?"
   ]
  },
  {
   "cell_type": "markdown",
   "id": "fa540410",
   "metadata": {},
   "source": [
    "\n",
    "Different methods for web scraping include using libraries like BeautifulSoup, Scrapy, utilizing APIs (if available), employing headless browsers such as Selenium, or writing custom scripts to send HTTP requests and parse responses.\n",
    "\n",
    "\n",
    "\n",
    "\n",
    "\n"
   ]
  },
  {
   "cell_type": "markdown",
   "id": "1b5bfdc6",
   "metadata": {},
   "source": [
    "Q3. What is Beautiful Soup? Why is it used?"
   ]
  },
  {
   "cell_type": "markdown",
   "id": "da1fefef",
   "metadata": {},
   "source": [
    "Beautiful Soup is a Python library used for parsing HTML and XML documents. It provides tools to navigate the parse tree and extract data from web pages. Beautiful Soup is used in web scraping to extract specific information, such as text, links, and attributes, from HTML documents. It simplifies the process of parsing and navigating HTML content, making it easier to extract data for analysis, storage, or display."
   ]
  },
  {
   "cell_type": "markdown",
   "id": "89d12a0e",
   "metadata": {},
   "source": [
    "Q4. Why is flask used in this Web Scraping project?"
   ]
  },
  {
   "cell_type": "markdown",
   "id": "0fc15cd0",
   "metadata": {},
   "source": [
    "Flask is used in web scraping projects for building APIs to serve scraped data, creating web interfaces for user interaction, integrating with scraping logic, and storing/presenting scraped data.\n",
    "\n",
    "\n",
    "\n",
    "\n",
    "\n",
    "\n"
   ]
  },
  {
   "cell_type": "markdown",
   "id": "690a53e6",
   "metadata": {},
   "source": [
    "Q5. Write the names of AWS services used in this project. Also, explain the use of each service.\n"
   ]
  },
  {
   "cell_type": "markdown",
   "id": "f994d164",
   "metadata": {},
   "source": [
    "Amazon EC2: \n",
    "Amazon S3: \n",
    "Amazon RDS or DynamoDB:\n",
    "Amazon CloudWatch: \n",
    "Amazon SES: \n",
    "Amazon SNS: "
   ]
  },
  {
   "cell_type": "code",
   "execution_count": null,
   "id": "d213caf8",
   "metadata": {},
   "outputs": [],
   "source": []
  }
 ],
 "metadata": {
  "kernelspec": {
   "display_name": "Python 3 (ipykernel)",
   "language": "python",
   "name": "python3"
  },
  "language_info": {
   "codemirror_mode": {
    "name": "ipython",
    "version": 3
   },
   "file_extension": ".py",
   "mimetype": "text/x-python",
   "name": "python",
   "nbconvert_exporter": "python",
   "pygments_lexer": "ipython3",
   "version": "3.11.5"
  }
 },
 "nbformat": 4,
 "nbformat_minor": 5
}
