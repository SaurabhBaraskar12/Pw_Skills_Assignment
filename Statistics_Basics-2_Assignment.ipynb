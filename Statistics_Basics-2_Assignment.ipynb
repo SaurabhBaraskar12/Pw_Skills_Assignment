{
 "cells": [
  {
   "cell_type": "markdown",
   "id": "cb50d7dc",
   "metadata": {},
   "source": [
    "# Statistics Basics-2 Assignment "
   ]
  },
  {
   "cell_type": "markdown",
   "id": "e510c355",
   "metadata": {},
   "source": [
    "Q1. What are the three measures of central tendency?"
   ]
  },
  {
   "cell_type": "markdown",
   "id": "6de8c70a",
   "metadata": {},
   "source": [
    "\n",
    "The three measures of central tendency are mean, median, and mode."
   ]
  },
  {
   "cell_type": "markdown",
   "id": "e7537946",
   "metadata": {},
   "source": [
    "Q2. What is the difference between the mean, median, and mode? How are they used to measure the\n",
    "central tendency of a dataset?"
   ]
  },
  {
   "cell_type": "markdown",
   "id": "23f796bb",
   "metadata": {},
   "source": [
    "\n",
    "Mean: The average value of a dataset, calculated by summing all values and dividing by the number of values.\n",
    "\n",
    "Median: The middle value when the data is arranged in ascending or descending order.\n",
    "\n",
    "Mode: The most frequently occurring value in the dataset.\n",
    "\n",
    "These measures provide different ways to understand the central tendency of a dataset, considering factors like average value, middle value, and most common value.\n",
    "\n",
    "\n",
    "\n",
    "\n",
    "\n"
   ]
  },
  {
   "cell_type": "markdown",
   "id": "adc050f1",
   "metadata": {},
   "source": [
    "Q3. Measure the three measures of central tendency for the given height data:\n",
    "[178,177,176,177,178.2,178,175,179,180,175,178.9,176.2,177,172.5,178,176.5]"
   ]
  },
  {
   "cell_type": "markdown",
   "id": "e5d1e000",
   "metadata": {},
   "source": [
    "\n",
    "\n",
    "Mean: The average height is approximately 176.64.\n",
    "\n",
    "Median: The middle height value is 177.\n",
    "\n",
    "Mode: The most common height is 178.\n",
    "\n",
    "\n",
    "\n",
    "\n",
    "\n"
   ]
  },
  {
   "cell_type": "markdown",
   "id": "c99738d8",
   "metadata": {},
   "source": [
    "Q4. Find the standard deviation for the given data:\n",
    "[178,177,176,177,178.2,178,175,179,180,175,178.9,176.2,177,172.5,178,176.5]"
   ]
  },
  {
   "cell_type": "markdown",
   "id": "96181320",
   "metadata": {},
   "source": [
    "Find the mean: 176.64\n",
    "Calculate the squared differences from the mean for each data point.\n",
    "Find the average of these squared differences.\n",
    "Take the square root of the average from step 3.\n",
    "The standard deviation for the given data is approximately 1.182.\n",
    "\n",
    "\n",
    "\n",
    "\n",
    "\n"
   ]
  },
  {
   "cell_type": "markdown",
   "id": "99b70a1b",
   "metadata": {},
   "source": [
    "Q5. How are measures of dispersion such as range, variance, and standard deviation used to describe\n",
    "the spread of a dataset? Provide an example."
   ]
  },
  {
   "cell_type": "markdown",
   "id": "c12a9e20",
   "metadata": {},
   "source": [
    "\n",
    "Measures of dispersion, such as range, variance, and standard deviation, describe how spread out data points are in a dataset.\n",
    "\n",
    "For example, if you have two classes with ages ranging from 15 to 20 in Class A and 15 to 25 in Class B, the range for Class A would be 5 and for Class B would be 10. Variance and standard deviation quantify this spread further, providing insight into the variability within each dataset.\n",
    "\n",
    "\n",
    "\n",
    "\n",
    "\n"
   ]
  },
  {
   "cell_type": "markdown",
   "id": "6820ca37",
   "metadata": {},
   "source": [
    "Q6. What is a Venn diagram?"
   ]
  },
  {
   "cell_type": "markdown",
   "id": "9821c731",
   "metadata": {},
   "source": [
    "A Venn diagram is a visual representation of the relationships between different sets of data. It consists of overlapping circles or other shapes, with each circle representing a set and the overlapping regions showing the intersections between the sets. Venn diagrams are commonly used to illustrate the similarities and differences between groups or categories of data.\n",
    "\n",
    "\n",
    "\n",
    "\n",
    "\n",
    "\n"
   ]
  },
  {
   "cell_type": "markdown",
   "id": "097e6ece",
   "metadata": {},
   "source": [
    "Q7. For the two given sets A = (2,3,4,5,6,7) & B = (0,2,6,8,10). Find:\n",
    "(i) A B\n",
    "(ii) A ⋃ B"
   ]
  },
  {
   "cell_type": "markdown",
   "id": "8b2703b3",
   "metadata": {},
   "source": [
    "(i) A ∩ B (Intersection of A and B):\n",
    "The intersection of two sets contains elements that are common to both sets.\n",
    "A = {2, 3, 4, 5, 6, 7}\n",
    "B = {0, 2, 6, 8, 10}\n",
    "Intersection of A and B = {2, 6}\n",
    "\n",
    "(ii) A ∪ B (Union of A and B):\n",
    "The union of two sets contains all unique elements from both sets.\n",
    "A = {2, 3, 4, 5, 6, 7}\n",
    "B = {0, 2, 6, 8, 10}\n",
    "Union of A and B = {0, 2, 3, 4, 5, 6, 7, 8, 10}\n",
    "\n",
    "\n",
    "\n",
    "\n",
    "\n",
    "\n"
   ]
  },
  {
   "cell_type": "markdown",
   "id": "a90f18c9",
   "metadata": {},
   "source": [
    "Q8. What do you understand about skewness in data?"
   ]
  },
  {
   "cell_type": "markdown",
   "id": "ee566439",
   "metadata": {},
   "source": [
    "\n",
    "Skewness in data indicates asymmetry in its distribution. Positive skewness means the tail extends to the right, negative skewness means the tail extends to the left, and zero skewness indicates perfect symmetry."
   ]
  },
  {
   "cell_type": "markdown",
   "id": "34aab2e0",
   "metadata": {},
   "source": [
    "Q9. If a data is right skewed then what will be the position of median with respect to mean?"
   ]
  },
  {
   "cell_type": "markdown",
   "id": "9a8d09c6",
   "metadata": {},
   "source": [
    "\n",
    "If a dataset is right-skewed, meaning it has a long tail extending to the right, the median will be less than the mean. This is because in a right-skewed distribution, the long tail on the right side pulls the mean towards higher values, making it larger than the median, which represents the middle value of the dataset and is less affected by extreme values in the tail."
   ]
  },
  {
   "cell_type": "markdown",
   "id": "55b17b73",
   "metadata": {},
   "source": [
    "Q10. Explain the difference between covariance and correlation. How are these measures used in\n",
    "statistical analysis?"
   ]
  },
  {
   "cell_type": "markdown",
   "id": "042034cd",
   "metadata": {},
   "source": [
    "\n",
    "Certainly!\n",
    "\n",
    "Covariance measures how two variables change together, but its magnitude depends on the scale of the variables. Correlation, on the other hand, standardizes this measure, ranging from -1 to 1, making it easier to interpret and compare across datasets.\n"
   ]
  },
  {
   "cell_type": "markdown",
   "id": "2609e691",
   "metadata": {},
   "source": [
    "Q11. What is the formula for calculating the sample mean? Provide an example calculation for a\n",
    "dataset."
   ]
  },
  {
   "cell_type": "markdown",
   "id": "5c0470bd",
   "metadata": {},
   "source": [
    "\n",
    "\n",
    "Where:\n",
    "\n",
    "�\n",
    "ˉ\n",
    "x\n",
    "ˉ\n",
    "  is the sample mean,\n",
    "�\n",
    "�\n",
    "x \n",
    "i\n",
    "​\n",
    "  represents each individual data point in the dataset,\n",
    "�\n",
    "n is the number of data points in the dataset.\n",
    "Here's an example calculation for a dataset: [10, 15, 20, 25, 30]\n",
    "\n",
    "�\n",
    "ˉ\n",
    "=\n",
    "10\n",
    "+\n",
    "15\n",
    "+\n",
    "20\n",
    "+\n",
    "25\n",
    "+\n",
    "30\n",
    "5\n",
    "x\n",
    "ˉ\n",
    " = \n",
    "5\n",
    "10+15+20+25+30\n",
    "​\n",
    " \n",
    "�\n",
    "ˉ\n",
    "=\n",
    "100\n",
    "5\n",
    "x\n",
    "ˉ\n",
    " = \n",
    "5\n",
    "100\n",
    "​\n",
    " \n",
    "�\n",
    "ˉ\n",
    "=\n",
    "20\n",
    "x\n",
    "ˉ\n",
    " =20"
   ]
  },
  {
   "cell_type": "markdown",
   "id": "20110e91",
   "metadata": {},
   "source": [
    "Q12. For a normal distribution data what is the relationship between its measure of central tendency?"
   ]
  },
  {
   "cell_type": "markdown",
   "id": "86ae0a88",
   "metadata": {},
   "source": [
    "\n",
    "For a normal distribution, the measures of central tendency—mean, median, and mode—are all equal. This relationship holds true regardless of the shape or spread of the distribution. In a perfectly symmetrical normal distribution, the mean, median, and mode all coincide at the center of the distribution. This property is one of the key characteristics of a normal distribution and makes it particularly useful for statistical analysis and modeling.\n",
    "\n",
    "\n",
    "\n",
    "\n",
    "\n"
   ]
  },
  {
   "cell_type": "markdown",
   "id": "28c31311",
   "metadata": {},
   "source": [
    "Q13. How is covariance different from correlation?"
   ]
  },
  {
   "cell_type": "markdown",
   "id": "af52685b",
   "metadata": {},
   "source": [
    " covariance provides information about the direction of the relationship between variables, while correlation additionally standardizes this information, making it more interpretable and suitable for comparison across datasets.\n",
    "\n",
    "\n",
    "\n",
    "\n",
    "\n"
   ]
  },
  {
   "cell_type": "markdown",
   "id": "092a6a73",
   "metadata": {},
   "source": [
    "Q14. How do outliers affect measures of central tendency and dispersion? Provide an example."
   ]
  },
  {
   "cell_type": "markdown",
   "id": "3dda889c",
   "metadata": {},
   "source": [
    "\n",
    "Outliers can skew measures of central tendency like the mean and median, pulling them towards extreme values. They can also inflate measures of dispersion such as the range and standard deviation, making the spread of the data appear larger than it actually is. For example, in a dataset of exam scores, adding an extremely high score can increase both the mean and standard deviation."
   ]
  },
  {
   "cell_type": "code",
   "execution_count": null,
   "id": "194fa3b1",
   "metadata": {},
   "outputs": [],
   "source": []
  }
 ],
 "metadata": {
  "kernelspec": {
   "display_name": "Python 3 (ipykernel)",
   "language": "python",
   "name": "python3"
  },
  "language_info": {
   "codemirror_mode": {
    "name": "ipython",
    "version": 3
   },
   "file_extension": ".py",
   "mimetype": "text/x-python",
   "name": "python",
   "nbconvert_exporter": "python",
   "pygments_lexer": "ipython3",
   "version": "3.11.5"
  }
 },
 "nbformat": 4,
 "nbformat_minor": 5
}
