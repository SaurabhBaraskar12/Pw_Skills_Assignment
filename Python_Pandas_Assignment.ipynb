{
 "cells": [
  {
   "cell_type": "markdown",
   "id": "36bdc5d9",
   "metadata": {},
   "source": [
    "# Pandas Assignment"
   ]
  },
  {
   "cell_type": "code",
   "execution_count": null,
   "id": "51459481",
   "metadata": {},
   "outputs": [],
   "source": [
    "Q1. Create a Pandas Series that contains the following data: 4, 8, 15, 16, 23, and 42. Then, print the series."
   ]
  },
  {
   "cell_type": "code",
   "execution_count": 3,
   "id": "77492f2d",
   "metadata": {},
   "outputs": [
    {
     "name": "stdout",
     "output_type": "stream",
     "text": [
      "0     4\n",
      "1     8\n",
      "2    15\n",
      "3    16\n",
      "4    23\n",
      "5    42\n",
      "dtype: int64\n"
     ]
    }
   ],
   "source": [
    "import pandas as pd\n",
    "\n",
    "# Create a Pandas Series\n",
    "data = [4, 8, 15, 16, 23, 42]\n",
    "series = pd.Series(data)\n",
    "\n",
    "# Print the series\n",
    "print(series)\n"
   ]
  },
  {
   "cell_type": "markdown",
   "id": "72a6edae",
   "metadata": {},
   "source": [
    "Q2. Create a variable of list type containing 10 elements in it, and apply pandas.Series function on the\n",
    "variable print it."
   ]
  },
  {
   "cell_type": "code",
   "execution_count": 5,
   "id": "71e6c88c",
   "metadata": {},
   "outputs": [
    {
     "name": "stdout",
     "output_type": "stream",
     "text": [
      "0     1\n",
      "1     2\n",
      "2     3\n",
      "3     4\n",
      "4     5\n",
      "5     6\n",
      "6     7\n",
      "7     8\n",
      "8     9\n",
      "9    10\n",
      "dtype: int64\n"
     ]
    }
   ],
   "source": [
    "import pandas as pd\n",
    "\n",
    "# Create a list with 10 elements\n",
    "data_list = [1, 2, 3, 4, 5, 6, 7, 8, 9, 10]\n",
    "\n",
    "# Convert the list into a Pandas Series\n",
    "series = pd.Series(data_list)\n",
    "\n",
    "# Print the series\n",
    "print(series)\n"
   ]
  },
  {
   "cell_type": "markdown",
   "id": "496864d3",
   "metadata": {},
   "source": [
    "Q3. Create a Pandas DataFrame that contains the following data:\n",
    "Name : Alica ,Bob , Claria , Age : 25, 30 ,27 \n",
    "Then, print the DataFrame."
   ]
  },
  {
   "cell_type": "code",
   "execution_count": 7,
   "id": "0abfdc2a",
   "metadata": {},
   "outputs": [
    {
     "name": "stdout",
     "output_type": "stream",
     "text": [
      "     Name  Age\n",
      "0   Alica   25\n",
      "1     Bob   30\n",
      "2  Claria   27\n"
     ]
    }
   ],
   "source": [
    "import pandas as pd\n",
    "\n",
    "# Create a dictionary containing the data\n",
    "data = {\n",
    "    'Name': ['Alica', 'Bob', 'Claria'],\n",
    "    'Age': [25, 30, 27]\n",
    "}\n",
    "\n",
    "# Create a Pandas DataFrame\n",
    "df = pd.DataFrame(data)\n",
    "\n",
    "# Print the DataFrame\n",
    "print(df)\n"
   ]
  },
  {
   "cell_type": "markdown",
   "id": "8758dffa",
   "metadata": {},
   "source": [
    "Q4. What is ‘DataFrame’ in pandas and how is it different from pandas.series? Explain with an example."
   ]
  },
  {
   "cell_type": "code",
   "execution_count": 8,
   "id": "f94eaf82",
   "metadata": {},
   "outputs": [
    {
     "name": "stdout",
     "output_type": "stream",
     "text": [
      "DataFrame:\n",
      "     Name  Age\n",
      "0   Alica   25\n",
      "1     Bob   30\n",
      "2  Claria   27\n",
      "\n",
      "Series:\n",
      "0    25\n",
      "1    30\n",
      "2    27\n",
      "dtype: int64\n"
     ]
    }
   ],
   "source": [
    "import pandas as pd\n",
    "\n",
    "# Create a DataFrame\n",
    "data = {\n",
    "    'Name': ['Alica', 'Bob', 'Claria'],\n",
    "    'Age': [25, 30, 27]\n",
    "}\n",
    "df = pd.DataFrame(data)\n",
    "\n",
    "# Create a Series\n",
    "ages = pd.Series([25, 30, 27])\n",
    "\n",
    "# Print the DataFrame and Series\n",
    "print(\"DataFrame:\")\n",
    "print(df)\n",
    "print(\"\\nSeries:\")\n",
    "print(ages)\n"
   ]
  },
  {
   "cell_type": "markdown",
   "id": "603dd482",
   "metadata": {},
   "source": [
    "Q5. What are some common functions you can use to manipulate data in a Pandas DataFrame? Can\n",
    "you give an example of when you might use one of these functions?"
   ]
  },
  {
   "cell_type": "code",
   "execution_count": 9,
   "id": "69b64013",
   "metadata": {},
   "outputs": [
    {
     "name": "stdout",
     "output_type": "stream",
     "text": [
      "DataFrame after manipulation:\n",
      "     Name  Age\n",
      "1     Bob   30\n",
      "2  Claria   27\n",
      "0   Alica   25\n",
      "\n",
      "Count of people in each age group:\n",
      "Age\n",
      "25    1\n",
      "27    1\n",
      "30    1\n",
      "dtype: int64\n"
     ]
    }
   ],
   "source": [
    "import pandas as pd\n",
    "\n",
    "# Create a DataFrame\n",
    "data = {\n",
    "    'Name': ['Alica', 'Bob', 'Claria'],\n",
    "    'Age': [25, 30, 27]\n",
    "}\n",
    "df = pd.DataFrame(data)\n",
    "\n",
    "# Fill missing values in the 'Age' column with the mean age\n",
    "mean_age = df['Age'].mean()\n",
    "df['Age'] = df['Age'].fillna(mean_age)\n",
    "\n",
    "# Group the data by age and count the number of people in each age group\n",
    "age_groups = df.groupby('Age').size()\n",
    "\n",
    "# Sort the DataFrame by age in descending order\n",
    "sorted_df = df.sort_values(by='Age', ascending=False)\n",
    "\n",
    "print(\"DataFrame after manipulation:\")\n",
    "print(sorted_df)\n",
    "print(\"\\nCount of people in each age group:\")\n",
    "print(age_groups)\n"
   ]
  },
  {
   "cell_type": "markdown",
   "id": "1c5aba2d",
   "metadata": {},
   "source": [
    "Q6. Which of the following is mutable in nature Series, DataFrame, Panel?"
   ]
  },
  {
   "cell_type": "markdown",
   "id": "986edbc3",
   "metadata": {},
   "source": [
    "\n",
    "Among Series, DataFrame, and Panel, only DataFrame is mutable in nature.\n",
    "\n",
    "DataFrame objects can be modified, including changing values, adding or removing columns, and performing other data manipulation operations.\n",
    "\n",
    "Series and Panel objects, on the other hand, are immutable. Once created, their values cannot be changed directly. However, you can create new Series or Panel objects with modified values if needed.\n",
    "\n",
    "Since Pandas version 0.25.0, the Panel class has been deprecated in favor of using MultiIndex DataFrames or xarray."
   ]
  },
  {
   "cell_type": "markdown",
   "id": "14b33b3e",
   "metadata": {},
   "source": [
    "Q7. Create a DataFrame using multiple Series. Explain with an example.\n"
   ]
  },
  {
   "cell_type": "code",
   "execution_count": null,
   "id": "69bf0922",
   "metadata": {},
   "outputs": [],
   "source": [
    "import pandas as pd\n",
    "\n",
    "# Create multiple Series\n",
    "name_series = pd.Series(['Alica', 'Bob', 'Claria'])\n",
    "age_series = pd.Series([25, 30, 27])\n",
    "\n",
    "# Create a DataFrame using the Series\n",
    "df = pd.DataFrame({'Name': name_series, 'Age': age_series})\n",
    "\n",
    "# Print the DataFrame\n",
    "print(df)\n",
    "\n"
   ]
  }
 ],
 "metadata": {
  "kernelspec": {
   "display_name": "Python 3 (ipykernel)",
   "language": "python",
   "name": "python3"
  },
  "language_info": {
   "codemirror_mode": {
    "name": "ipython",
    "version": 3
   },
   "file_extension": ".py",
   "mimetype": "text/x-python",
   "name": "python",
   "nbconvert_exporter": "python",
   "pygments_lexer": "ipython3",
   "version": "3.11.5"
  }
 },
 "nbformat": 4,
 "nbformat_minor": 5
}
