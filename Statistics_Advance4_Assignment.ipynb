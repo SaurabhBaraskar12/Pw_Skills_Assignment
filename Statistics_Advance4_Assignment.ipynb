{
 "cells": [
  {
   "cell_type": "markdown",
   "id": "eaa4d601",
   "metadata": {},
   "source": [
    "# Statistics Advance4 Assignment\n"
   ]
  },
  {
   "cell_type": "markdown",
   "id": "5bc5cce8",
   "metadata": {},
   "source": [
    "Q1: What is the difference between a t-test and a z-test? Provide an example scenario where you would\n",
    "use each type of test."
   ]
  },
  {
   "cell_type": "markdown",
   "id": "0932ec10",
   "metadata": {},
   "source": [
    "The choice between a t-test and a z-test depends on both the sample size and the assumption about the population distribution. Use a t-test when dealing with small sample sizes or when the population distribution is unknown and assumed to be normal. Use a z-test when dealing with large sample sizes and when the population distribution is known to be normal."
   ]
  },
  {
   "cell_type": "markdown",
   "id": "0aeb1db7",
   "metadata": {},
   "source": [
    "Q2: Differentiate between one-tailed and two-tailed tests."
   ]
  },
  {
   "cell_type": "markdown",
   "id": "d7f3479b",
   "metadata": {},
   "source": [
    " one-tailed tests are used when there is a specific directional hypothesis, while two-tailed tests are used when the hypothesis is non-directional, and you want to determine if there's a difference in either direction. The choice between the two depends on the nature of the research question and the hypothesis being tested."
   ]
  },
  {
   "cell_type": "markdown",
   "id": "1ff42bb8",
   "metadata": {},
   "source": [
    "Q3: Explain the concept of Type 1 and Type 2 errors in hypothesis testing. Provide an example scenario for\n",
    "each type of error."
   ]
  },
  {
   "cell_type": "markdown",
   "id": "b9e0431d",
   "metadata": {},
   "source": [
    "Type I Error:\n",
    "\n",
    "Definition: False positive; rejecting a true null hypothesis.\n",
    "Example Scenario: Concluding a new drug is effective when it's not.\n",
    "Type II Error:\n",
    "\n",
    "Definition: False negative; failing to reject a false null hypothesis.\n",
    "Example Scenario: Concluding a new drug is ineffective when it's actually effective."
   ]
  },
  {
   "cell_type": "markdown",
   "id": "266f327d",
   "metadata": {},
   "source": [
    "Q4: Explain Bayes's theorem with an example."
   ]
  },
  {
   "cell_type": "markdown",
   "id": "f0eb00a0",
   "metadata": {},
   "source": [
    "\n",
    "Bayes's theorem is a fundamental concept in probability theory that describes how to update the probability of a hypothesis in light of new evidence. It's expressed mathematically as:\n",
    "\n",
    ")\n",
    "P(A∣B)= \n",
    "P(B)\n",
    "P(B∣A)×P(A)\n",
    "​\n"
   ]
  },
  {
   "cell_type": "markdown",
   "id": "aa0f3894",
   "metadata": {},
   "source": [
    "Q5: What is a confidence interval? How to calculate the confidence interval, explain with an example."
   ]
  },
  {
   "cell_type": "markdown",
   "id": "1627c70a",
   "metadata": {},
   "source": [
    "A confidence interval is a range of values that likely contains the true population parameter of interest, such as a population mean or proportion, along with a specified level of confidence. It provides a measure of the uncertainty associated with estimating population parameters based on sample data."
   ]
  },
  {
   "cell_type": "markdown",
   "id": "afb6f3ae",
   "metadata": {},
   "source": [
    "Q6. Use Bayes' Theorem to calculate the probability of an event occurring given prior knowledge of the\n",
    "event's probability and new evidence. Provide a sample problem and solution."
   ]
  },
  {
   "cell_type": "markdown",
   "id": "a1ec6489",
   "metadata": {},
   "source": [
    "Using Bayes' Theorem, you calculate the probability of an event occurring given prior knowledge of its probability and new evidence. For example, if you know the probability of a light bulb being defective, and you conduct a test indicating it's defective, Bayes' Theorem helps find the updated probability that the bulb is truly defective."
   ]
  },
  {
   "cell_type": "code",
   "execution_count": null,
   "id": "8dffc640",
   "metadata": {},
   "outputs": [],
   "source": [
    "Q7. Calculate the 95% confidence interval for a sample of data with a mean of 50 and a standard deviation\n",
    "of 5. Interpret the results."
   ]
  },
  {
   "cell_type": "markdown",
   "id": "fdcb8151",
   "metadata": {},
   "source": [
    "Since we're not given the sample size (\n",
    "�\n",
    "n), we can't directly calculate the confidence interval. However, we can interpret the results for different sample sizes. For larger sample sizes, the margin of error becomes smaller, resulting in a narrower confidence interval. Conversely, for smaller sample sizes, the margin of error increases, resulting in a wider confidence interval."
   ]
  },
  {
   "cell_type": "markdown",
   "id": "5bedb7ca",
   "metadata": {},
   "source": [
    "Q8. What is the margin of error in a confidence interval? How does sample size affect the margin of error?\n",
    "Provide an example of a scenario where a larger sample size would result in a smaller margin of error."
   ]
  },
  {
   "cell_type": "markdown",
   "id": "0b6bbbd5",
   "metadata": {},
   "source": [
    "If you were to increase the sample size to 100 teenagers while keeping all other factors constant, the margin of error would decrease. This is because with a larger sample size, the standard error of the mean decreases, resulting in a narrower confidence interval and hence a smaller margin of error. Therefore, increasing the sample size would lead to a more precise estimate of the average time spent on social media by teenagers."
   ]
  },
  {
   "cell_type": "markdown",
   "id": "d0aa57ff",
   "metadata": {},
   "source": [
    "Q9. Calculate the z-score for a data point with a value of 75, a population mean of 70, and a population\n",
    "standard deviation of 5. Interpret the results."
   ]
  },
  {
   "cell_type": "markdown",
   "id": "3b3f887e",
   "metadata": {},
   "source": [
    "A z-score of 1 indicates that the data point is one standard deviation above the mean. In this context, a data point with a value of 75 is higher than the population mean by one standard deviation. This means that the value of 75 is relatively higher compared to the average value within the population, and it falls within the first quartile of the normal distribution."
   ]
  },
  {
   "cell_type": "markdown",
   "id": "ad32abd6",
   "metadata": {},
   "source": [
    "Q10. In a study of the effectiveness of a new weight loss drug, a sample of 50 participants lost an average\n",
    "of 6 pounds with a standard deviation of 2.5 pounds. Conduct a hypothesis test to determine if the drug is\n",
    "significantly effective at a 95% confidence level using a t-test."
   ]
  },
  {
   "cell_type": "markdown",
   "id": "7a9fed10",
   "metadata": {},
   "source": [
    "Significance Level (\n",
    "α): 0.05.\n",
    "Test Statistic: Calculate \n",
    "\n",
    "t using the formula for a one-sample t-test.\n",
    "\n",
    "Critical Value: Find the critical value from the t-distribution table.\n",
    "\n",
    "Comparison: Compare the test statistic with the critical value.\n",
    "\n",
    "Conclusion: Reject or fail to reject the null hypothesis based on the comparison."
   ]
  },
  {
   "cell_type": "markdown",
   "id": "d8bfc83c",
   "metadata": {},
   "source": [
    "Q11. In a survey of 500 people, 65% reported being satisfied with their current job. Calculate the 95%\n",
    "confidence interval for the true proportion of people who are satisfied with their job."
   ]
  },
  {
   "cell_type": "markdown",
   "id": "b7b82489",
   "metadata": {},
   "source": [
    "So, the 95% confidence interval for the true proportion of people who are satisfied with their job is approximately \n",
    "(\n",
    "0.6082\n",
    ",\n",
    "0.6918\n",
    ")\n",
    "(0.6082,0.6918), or 60.82% to 69.18%. This means that we are 95% confident that the true proportion of people satisfied with their job falls within this interval."
   ]
  },
  {
   "cell_type": "markdown",
   "id": "cadafb8d",
   "metadata": {},
   "source": [
    "Q12. A researcher is testing the effectiveness of two different teaching methods on student performance.\n",
    "Sample A has a mean score of 85 with a standard deviation of 6, while sample B has a mean score of 82\n",
    "with a standard deviation of 5. Conduct a hypothesis test to determine if the two teaching methods have a\n",
    "significant difference in student performance using a t-test with a significance level of 0.01."
   ]
  },
  {
   "cell_type": "markdown",
   "id": "003c3947",
   "metadata": {},
   "source": [
    "Test Statistic: Calculate \n",
    "t using the two-sample t-test formula.\n",
    "\n",
    "Degrees of Freedom: \n",
    "\n",
    "2\n",
    "n \n",
    "A\n",
    "​\n",
    " +n \n",
    "B\n",
    "​\n",
    " −2.\n",
    "\n",
    "Critical Value: Find the critical value from the t-distribution table.\n",
    "\n",
    "Comparison: Compare the test statistic with the critical value.\n",
    "\n",
    "Conclusion: Reject or fail to reject the null hypothesis based on the comparison."
   ]
  },
  {
   "cell_type": "markdown",
   "id": "59cc32a9",
   "metadata": {},
   "source": [
    "Q13. A population has a mean of 60 and a standard deviation of 8. A sample of 50 observations has a mean\n",
    "of 65. Calculate the 90% confidence interval for the true population mean."
   ]
  },
  {
   "cell_type": "markdown",
   "id": "73fcf415",
   "metadata": {},
   "source": [
    "\n",
    "To calculate the 90% confidence interval for the true population mean, we can use the formula for the confidence interval for a population mean when the population standard deviation is known:"
   ]
  },
  {
   "cell_type": "markdown",
   "id": "4c0a91be",
   "metadata": {},
   "source": [
    "Q14. In a study of the effects of caffeine on reaction time, a sample of 30 participants had an average\n",
    "reaction time of 0.25 seconds with a standard deviation of 0.05 seconds. Conduct a hypothesis test to\n",
    "determine if the caffeine has a significant effect on reaction time at a 90% confidence level using a t-test."
   ]
  },
  {
   "cell_type": "markdown",
   "id": "eb866269",
   "metadata": {},
   "source": [
    "Now, we need to find the critical value from the t-distribution table for a two-tailed test at a significance level of 0.10 and 29 degrees of freedom (since \n",
    "�\n",
    "−\n",
    "1\n",
    "=\n",
    "30\n",
    "−\n",
    "1\n",
    "=\n",
    "29\n",
    "n−1=30−1=29)."
   ]
  }
 ],
 "metadata": {
  "kernelspec": {
   "display_name": "Python 3 (ipykernel)",
   "language": "python",
   "name": "python3"
  },
  "language_info": {
   "codemirror_mode": {
    "name": "ipython",
    "version": 3
   },
   "file_extension": ".py",
   "mimetype": "text/x-python",
   "name": "python",
   "nbconvert_exporter": "python",
   "pygments_lexer": "ipython3",
   "version": "3.11.5"
  }
 },
 "nbformat": 4,
 "nbformat_minor": 5
}
