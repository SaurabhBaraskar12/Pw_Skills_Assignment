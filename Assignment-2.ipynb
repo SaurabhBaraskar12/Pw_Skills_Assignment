{
 "cells": [
  {
   "cell_type": "markdown",
   "id": "46f6b58d",
   "metadata": {},
   "source": [
    "Q1. How do you comment code in Python? What are the different types of comments?"
   ]
  },
  {
   "cell_type": "code",
   "execution_count": 1,
   "id": "fa4aa5b8",
   "metadata": {},
   "outputs": [],
   "source": [
    "# This is a single-line comment\n",
    "x = 5  # This is also a single-line comment\n",
    "\n",
    "\"\"\"\n",
    "This is a multi-line comment\n",
    "It can span multiple lines\n",
    "This is commonly used for function documentation (docstrings)\n",
    "\"\"\"\n",
    "\n",
    "def my_function():\n",
    "    \"\"\"\n",
    "    This is a docstring for my_function.\n",
    "    It explains what the function does and how to use it.\n",
    "    \"\"\"\n",
    "    pass\n"
   ]
  },
  {
   "cell_type": "markdown",
   "id": "dc114d98",
   "metadata": {},
   "source": [
    "Q2. What are variables in Python? How do you declare and assign values to variables?"
   ]
  },
  {
   "cell_type": "code",
   "execution_count": 3,
   "id": "08d42308",
   "metadata": {},
   "outputs": [],
   "source": [
    "x = 5 \n",
    "name = \"John\" \n",
    "pi_value = 3.14 \n",
    "is_true = True "
   ]
  },
  {
   "cell_type": "markdown",
   "id": "68208f1c",
   "metadata": {},
   "source": [
    "Q3. How do you convert one data type to another in Python?"
   ]
  },
  {
   "cell_type": "code",
   "execution_count": 4,
   "id": "2716ef06",
   "metadata": {},
   "outputs": [],
   "source": [
    "x = 5  # Integer\n",
    "y = 3.14  # Float\n",
    "z = x + y  # Result will be a float (implicit conversion)\n"
   ]
  },
  {
   "cell_type": "code",
   "execution_count": 5,
   "id": "1d2fe696",
   "metadata": {},
   "outputs": [],
   "source": [
    "x = \"10\"  # String\n",
    "y = int(x)  # Convert string to integer\n"
   ]
  },
  {
   "cell_type": "code",
   "execution_count": 7,
   "id": "0af51e60",
   "metadata": {},
   "outputs": [],
   "source": [
    "x = 10  # Integer\n",
    "y = float(x)  # Convert integer to float\n"
   ]
  },
  {
   "cell_type": "code",
   "execution_count": 8,
   "id": "569edd30",
   "metadata": {},
   "outputs": [],
   "source": [
    "x = 0  # Integer\n",
    "y = bool(x)  # Convert integer to boolean\n"
   ]
  },
  {
   "cell_type": "markdown",
   "id": "1d7ea41e",
   "metadata": {},
   "source": [
    "Q4. How do you write and execute a Python script from the command line?"
   ]
  },
  {
   "cell_type": "code",
   "execution_count": 9,
   "id": "0ae175fc",
   "metadata": {},
   "outputs": [
    {
     "name": "stdout",
     "output_type": "stream",
     "text": [
      "Hello, world!\n"
     ]
    }
   ],
   "source": [
    "print(\"Hello, world!\")\n"
   ]
  },
  {
   "cell_type": "code",
   "execution_count": 10,
   "id": "1fed2a66",
   "metadata": {},
   "outputs": [
    {
     "name": "stdout",
     "output_type": "stream",
     "text": [
      "[WinError 3] The system cannot find the path specified: 'path/to/your/directory'\n",
      "C:\\Users\\baras\\Desktop\\PW_Assignment\n"
     ]
    }
   ],
   "source": [
    "cd path/to/your/directory"
   ]
  },
  {
   "cell_type": "code",
   "execution_count": 11,
   "id": "1f3fce89",
   "metadata": {},
   "outputs": [
    {
     "ename": "SyntaxError",
     "evalue": "invalid syntax (1858525316.py, line 1)",
     "output_type": "error",
     "traceback": [
      "\u001b[1;36m  Cell \u001b[1;32mIn[11], line 1\u001b[1;36m\u001b[0m\n\u001b[1;33m    python my_script.py\u001b[0m\n\u001b[1;37m           ^\u001b[0m\n\u001b[1;31mSyntaxError\u001b[0m\u001b[1;31m:\u001b[0m invalid syntax\n"
     ]
    }
   ],
   "source": [
    "python my_script.py"
   ]
  },
  {
   "cell_type": "markdown",
   "id": "45f4daee",
   "metadata": {},
   "source": [
    "Q5. Given a list my_list = [1, 2, 3, 4, 5], write the code to slice the list and obtain the sub-list [2, 3]."
   ]
  },
  {
   "cell_type": "code",
   "execution_count": 13,
   "id": "ac21dade",
   "metadata": {},
   "outputs": [
    {
     "name": "stdout",
     "output_type": "stream",
     "text": [
      "[2, 3]\n"
     ]
    }
   ],
   "source": [
    "my_list = [1, 2, 3, 4, 5]\n",
    "\n",
    "# Slice the list to obtain the sub-list [2, 3]\n",
    "sub_list = my_list[1:3]\n",
    "\n",
    "print(sub_list)\n"
   ]
  },
  {
   "cell_type": "code",
   "execution_count": 14,
   "id": "cb2a60bf",
   "metadata": {},
   "outputs": [
    {
     "data": {
      "text/plain": [
       "[2, 3]"
      ]
     },
     "execution_count": 14,
     "metadata": {},
     "output_type": "execute_result"
    }
   ],
   "source": [
    "[2, 3]\n"
   ]
  },
  {
   "cell_type": "markdown",
   "id": "c7899c1a",
   "metadata": {},
   "source": [
    "Q6. What is a complex number in mathematics, and how is it represented in Python?"
   ]
  },
  {
   "cell_type": "code",
   "execution_count": 15,
   "id": "83759b65",
   "metadata": {},
   "outputs": [
    {
     "name": "stdout",
     "output_type": "stream",
     "text": [
      "(3+4j)\n",
      "(-2+5j)\n",
      "(2+3j)\n",
      "(-4-2j)\n"
     ]
    }
   ],
   "source": [
    "z1 = complex(3, 4)  # 3 + 4i\n",
    "z2 = complex(-2, 5) # -2 + 5i\n",
    "\n",
    "z3 = 2 + 3j   # 2 + 3i\n",
    "z4 = -4 - 2j  # -4 - 2i\n",
    "\n",
    "print(z1)  \n",
    "print(z2) \n",
    "print(z3) \n",
    "print(z4)  \n"
   ]
  },
  {
   "cell_type": "markdown",
   "id": "9e458e51",
   "metadata": {},
   "source": [
    "Q7. What is the correct way to declare a variable named age and assign the value 25 to it?"
   ]
  },
  {
   "cell_type": "code",
   "execution_count": 16,
   "id": "9fbfa5fb",
   "metadata": {},
   "outputs": [],
   "source": [
    "age = 25"
   ]
  },
  {
   "cell_type": "markdown",
   "id": "3cd136e9",
   "metadata": {},
   "source": [
    "Q8. Declare a variable named price and assign the value 9.99 to it. What data type does this variable\n",
    "belong to?"
   ]
  },
  {
   "cell_type": "code",
   "execution_count": 17,
   "id": "755b5b4d",
   "metadata": {},
   "outputs": [],
   "source": [
    "price = 9.99   # float"
   ]
  },
  {
   "cell_type": "markdown",
   "id": "b1a7034b",
   "metadata": {},
   "source": [
    "Q9. Create a variable named name and assign your full name to it as a string. How would you print the\n",
    "value of this variable?"
   ]
  },
  {
   "cell_type": "code",
   "execution_count": 18,
   "id": "1a1b2c98",
   "metadata": {},
   "outputs": [],
   "source": [
    "name = \"Saurabh Baraskar\""
   ]
  },
  {
   "cell_type": "code",
   "execution_count": 19,
   "id": "3a409ff7",
   "metadata": {},
   "outputs": [
    {
     "name": "stdout",
     "output_type": "stream",
     "text": [
      "Saurabh Baraskar\n"
     ]
    }
   ],
   "source": [
    "print(name)\n"
   ]
  },
  {
   "cell_type": "markdown",
   "id": "1cafb79d",
   "metadata": {},
   "source": [
    "Q10. Given the string \"Hello, World!\", extract the substring \"World\"."
   ]
  },
  {
   "cell_type": "code",
   "execution_count": 20,
   "id": "4ff0d80a",
   "metadata": {},
   "outputs": [
    {
     "name": "stdout",
     "output_type": "stream",
     "text": [
      "World\n"
     ]
    }
   ],
   "source": [
    "s = \"Hello, World!\"\n",
    "substring = s[7:12]\n",
    "print(substring)\n"
   ]
  },
  {
   "cell_type": "markdown",
   "id": "e3da2aa5",
   "metadata": {},
   "source": [
    "Q11. Create a variable named \"is_student\" and assign it a boolean value indicating whether you are\n",
    "currently a student or not."
   ]
  },
  {
   "cell_type": "code",
   "execution_count": 22,
   "id": "a6f66160",
   "metadata": {},
   "outputs": [],
   "source": [
    "is_student = True\n"
   ]
  }
 ],
 "metadata": {
  "kernelspec": {
   "display_name": "Python 3 (ipykernel)",
   "language": "python",
   "name": "python3"
  },
  "language_info": {
   "codemirror_mode": {
    "name": "ipython",
    "version": 3
   },
   "file_extension": ".py",
   "mimetype": "text/x-python",
   "name": "python",
   "nbconvert_exporter": "python",
   "pygments_lexer": "ipython3",
   "version": "3.11.5"
  }
 },
 "nbformat": 4,
 "nbformat_minor": 5
}
