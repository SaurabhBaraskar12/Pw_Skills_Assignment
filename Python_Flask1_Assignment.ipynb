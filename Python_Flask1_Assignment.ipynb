{
 "cells": [
  {
   "cell_type": "markdown",
   "id": "79327c4a",
   "metadata": {},
   "source": [
    "# Flask1 Assignment"
   ]
  },
  {
   "cell_type": "code",
   "execution_count": 1,
   "id": "6db2acee",
   "metadata": {},
   "outputs": [
    {
     "name": "stdout",
     "output_type": "stream",
     "text": [
      "Object `Framework` not found.\n"
     ]
    }
   ],
   "source": [
    "Q1. What is Flask Framework? What are the advantages of Flask Framework?"
   ]
  },
  {
   "cell_type": "markdown",
   "id": "a7afa4c1",
   "metadata": {},
   "source": [
    "\n",
    "Flask is a lightweight web framework for Python, known for its simplicity and flexibility. It offers minimal boilerplate code, extensibility through Flask extensions, and a large community, making it ideal for building web applications of varying complexity."
   ]
  },
  {
   "cell_type": "markdown",
   "id": "e5b7ee59",
   "metadata": {},
   "source": [
    "Q2. Create a simple Flask application to display ‘Hello World!!’. Attach the screenshot of the output in\n",
    "Jupyter Notebook.\n"
   ]
  },
  {
   "cell_type": "code",
   "execution_count": null,
   "id": "11853af4",
   "metadata": {},
   "outputs": [],
   "source": [
    "from flask import Flask\n",
    "\n",
    "app = Flask(__name__)\n",
    "\n",
    "@app.route('/')\n",
    "def hello_world():\n",
    "    return 'Hello World!!'\n",
    "\n",
    "if __name__ == '__main__':\n",
    "    app.run()\n"
   ]
  },
  {
   "cell_type": "markdown",
   "id": "e6baad70",
   "metadata": {},
   "source": [
    "Q3. What is App routing in Flask? Why do we use app routes?"
   ]
  },
  {
   "cell_type": "markdown",
   "id": "c96f2d9a",
   "metadata": {},
   "source": [
    "\n",
    "In Flask, app routing refers to the process of mapping URLs to view functions within a Flask application. App routes define the URL patterns that Flask should respond to and the corresponding functions to execute when those URLs are accessed. We use app routes to create different endpoints in our web application, allowing users to access different pages or perform different actions based on the URL they visit. App routes are essential for creating a navigation structure and handling user requests in Flask applications."
   ]
  },
  {
   "cell_type": "markdown",
   "id": "b85e1745",
   "metadata": {},
   "source": [
    "Q4. Create a “/welcome” route to display the welcome message “Welcome to ABC Corporation” and a “/”\n",
    "route to show the following details:\n",
    "Company Name: ABC Corporation\n",
    "Location: India\n",
    "Contact Detail: 999-999-9999\n",
    "    "
   ]
  },
  {
   "cell_type": "code",
   "execution_count": null,
   "id": "7f754bc4",
   "metadata": {},
   "outputs": [],
   "source": [
    "from flask import Flask\n",
    "\n",
    "app = Flask(__name__)\n",
    "\n",
    "# Route to display the welcome message\n",
    "@app.route('/welcome')\n",
    "def welcome():\n",
    "    return 'Welcome to ABC Corporation'\n",
    "\n",
    "# Route to display company details\n",
    "@app.route('/')\n",
    "def company_details():\n",
    "    return '''\n",
    "    Company Name: ABC Corporation\n",
    "    Location: India\n",
    "    Contact Detail: 999-999-9999\n",
    "    '''\n",
    "\n",
    "if __name__ == '__main__':\n",
    "    app.run(debug=True)\n"
   ]
  },
  {
   "cell_type": "code",
   "execution_count": null,
   "id": "a54076eb",
   "metadata": {},
   "outputs": [],
   "source": [
    "Q5. What function is used in Flask for URL Building? Write a Python code to demonstrate the working of the\n",
    "url_for() function."
   ]
  },
  {
   "cell_type": "code",
   "execution_count": null,
   "id": "2fb5305e",
   "metadata": {},
   "outputs": [],
   "source": [
    "from flask import Flask, url_for\n",
    "\n",
    "app = Flask(__name__)\n",
    "\n",
    "# Route to display a welcome message\n",
    "@app.route('/welcome')\n",
    "def welcome():\n",
    "    return 'Welcome to ABC Corporation'\n",
    "\n",
    "# Route to display company details\n",
    "@app.route('/')\n",
    "def company_details():\n",
    "    return '''\n",
    "    Company Name: ABC Corporation\n",
    "    Location: India\n",
    "    Contact Detail: 999-999-9999\n",
    "    '''\n",
    "\n",
    "# Route to demonstrate the usage of url_for() function\n",
    "@app.route('/test_url_for')\n",
    "def test_url_for():\n",
    "    # Generate URLs for the 'welcome' and 'company_details' endpoints\n",
    "    welcome_url = url_for('welcome')\n",
    "    company_details_url = url_for('company_details')\n",
    "\n",
    "    # Return the generated URLs\n",
    "    return f'''\n",
    "    URL for 'welcome' endpoint: {welcome_url}<br>\n",
    "    URL for 'company_details' endpoint: {company_details_url}\n",
    "    '''\n",
    "\n",
    "if __name__ == '__main__':\n",
    "    app.run(debug=True)\n"
   ]
  },
  {
   "cell_type": "code",
   "execution_count": null,
   "id": "5327dfe6",
   "metadata": {},
   "outputs": [],
   "source": []
  }
 ],
 "metadata": {
  "kernelspec": {
   "display_name": "Python 3 (ipykernel)",
   "language": "python",
   "name": "python3"
  },
  "language_info": {
   "codemirror_mode": {
    "name": "ipython",
    "version": 3
   },
   "file_extension": ".py",
   "mimetype": "text/x-python",
   "name": "python",
   "nbconvert_exporter": "python",
   "pygments_lexer": "ipython3",
   "version": "3.11.5"
  }
 },
 "nbformat": 4,
 "nbformat_minor": 5
}
