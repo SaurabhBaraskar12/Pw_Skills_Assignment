{
 "cells": [
  {
   "cell_type": "markdown",
   "id": "c18e4540",
   "metadata": {},
   "source": [
    "# Statistics Advance_6 Assignment\n"
   ]
  },
  {
   "cell_type": "markdown",
   "id": "ad49473b",
   "metadata": {},
   "source": [
    "Q1. Explain the assumptions required to use ANOVA and provide examples of violations that could impact\n",
    "the validity of the results."
   ]
  },
  {
   "cell_type": "markdown",
   "id": "1a63fe32",
   "metadata": {},
   "source": [
    "ANOVA (Analysis of Variance) is a statistical method used to compare the means of three or more groups to determine if they are significantly different from each other. To use ANOVA effectively, certain assumptions must be met:\n",
    "\n",
    "Independence: Observations within each group are independent of each other. This means that the response of one participant does not influence the response of another participant within the same group.\n",
    "\n",
    "Normality: The data within each group should be approximately normally distributed. This assumption is more critical for smaller sample sizes but becomes less important as sample sizes increase due to the Central Limit Theorem.\n",
    "\n",
    "Homogeneity of Variances (Homoscedasticity): The variances of the different groups should be approximately equal. This means that the spread of data points around the group means should be similar across all groups. Violation of this assumption can lead to inflated Type I error rates (false positives) and decreased power."
   ]
  },
  {
   "cell_type": "markdown",
   "id": "07f15eee",
   "metadata": {},
   "source": [
    "Q2. What are the three types of ANOVA, and in what situations would each be used?"
   ]
  },
  {
   "cell_type": "markdown",
   "id": "73064268",
   "metadata": {},
   "source": [
    "In summary, one-way ANOVA is suitable for comparing means across multiple independent groups, two-way ANOVA is used when there are two categorical independent variables, and repeated measures ANOVA is appropriate for analyzing within-subjects effects or longitudinal data with repeated measurements on the same subjects. Choosing the appropriate type of ANOVA depends on the research design and the specific hypotheses being tested.\n",
    "\n",
    "\n",
    "\n",
    "\n"
   ]
  },
  {
   "cell_type": "markdown",
   "id": "cdf91110",
   "metadata": {},
   "source": [
    "\n",
    "Q3. What is the partitioning of variance in ANOVA, and why is it important to understand this concept?"
   ]
  },
  {
   "cell_type": "markdown",
   "id": "457d045f",
   "metadata": {},
   "source": [
    "\n",
    "The partitioning of variance in ANOVA refers to the division of the total variance in the data into different components, each of which represents a different source of variation. Understanding this concept is essential because it helps to:"
   ]
  },
  {
   "cell_type": "markdown",
   "id": "db8a3a5c",
   "metadata": {},
   "source": [
    "Q4. How would you calculate the total sum of squares (SST), explained sum of squares (SSE), and residual\n",
    "sum of squares (SSR) in a one-way ANOVA using Python?"
   ]
  },
  {
   "cell_type": "code",
   "execution_count": 2,
   "id": "58d44b50",
   "metadata": {},
   "outputs": [
    {
     "ename": "SyntaxError",
     "evalue": "unterminated string literal (detected at line 17) (1332111796.py, line 17)",
     "output_type": "error",
     "traceback": [
      "\u001b[1;36m  Cell \u001b[1;32mIn[2], line 17\u001b[1;36m\u001b[0m\n\u001b[1;33m    print(\"Explained Sum of Squ\u001b[0m\n\u001b[1;37m          ^\u001b[0m\n\u001b[1;31mSyntaxError\u001b[0m\u001b[1;31m:\u001b[0m unterminated string literal (detected at line 17)\n"
     ]
    }
   ],
   "source": [
    "import numpy as np\n",
    "\n",
    "\n",
    "group_data = [[10, 12, 14], [8, 9, 11], [7, 9, 10]]\n",
    "\n",
    "overall_mean = np.mean([data_point for group in group_data for data_point in group])\n",
    "\n",
    "SST = np.sum([(data_point - overall_mean)**2 for group in group_data for data_point in group])\n",
    "\n",
    "group_means = [np.mean(group) for group in group_data]\n",
    "\n",
    "SSE = np.sum([len(group) * (group_mean - overall_mean)**2 for group, group_mean in zip(group_data, group_means)])\n",
    "\n",
    "SSR = SST - SSE\n",
    "\n",
    "print(\"Total Sum of Squares (SST):\", SST)\n",
    "print(\"Explained Sum of Squ\n"
   ]
  },
  {
   "cell_type": "markdown",
   "id": "2c4ff451",
   "metadata": {},
   "source": [
    "Q5. In a two-way ANOVA, how would you calculate the main effects and interaction effects using Python?"
   ]
  },
  {
   "cell_type": "markdown",
   "id": "dbf8e9d7",
   "metadata": {},
   "source": [
    "import numpy as np\n",
    "import scipy.stats as stats\n",
    "\n",
    "data = np.array([\n",
    "    [[10, 12, 14], [8, 9, 11]],  \n"
   ]
  },
  {
   "cell_type": "markdown",
   "id": "73d40acb",
   "metadata": {},
   "source": [
    "Q6. Suppose you conducted a one-way ANOVA and obtained an F-statistic of 5.23 and a p-value of 0.02.\n",
    "What can you conclude about the differences between the groups, and how would you interpret these\n",
    "results?\n"
   ]
  },
  {
   "cell_type": "markdown",
   "id": "20b3494e",
   "metadata": {},
   "source": [
    " the obtained F-statistic and p-value provide evidence to reject the null hypothesis and conclude that there are significant differences in the means of the groups being compared."
   ]
  },
  {
   "cell_type": "markdown",
   "id": "91b33c3e",
   "metadata": {},
   "source": [
    "Q7. In a repeated measures ANOVA, how would you handle missing data, and what are the potential\n",
    "consequences of using different methods to handle missing data?"
   ]
  },
  {
   "cell_type": "markdown",
   "id": "21466ba0",
   "metadata": {},
   "source": [
    " the choice of method for handling missing data in repeated measures ANOVA should depend on the pattern and mechanism of missingness, as well as the assumptions of the analysis. It's essential to carefully consider the potential consequences of each method and conduct sensitivity analyses to assess the robustness of the results to different missing data handling strategies."
   ]
  },
  {
   "cell_type": "markdown",
   "id": "76036fe3",
   "metadata": {},
   "source": [
    "Q8. What are some common post-hoc tests used after ANOVA, and when would you use each one? Provide\n",
    "an example of a situation where a post-hoc test might be necessary."
   ]
  },
  {
   "cell_type": "markdown",
   "id": "54e97b12",
   "metadata": {},
   "source": [
    "Post-hoc tests are necessary when the omnibus ANOVA test indicates a significant difference among groups or factors, and you want to determine which specific groups or levels are significantly different from each other. These tests help avoid Type I errors that may occur when conducting multiple comparisons without appropriate adjustments.\n",
    "\n",
    "\n",
    "\n",
    "\n",
    "\n"
   ]
  },
  {
   "cell_type": "markdown",
   "id": "08701ae0",
   "metadata": {},
   "source": [
    "Q9. A researcher wants to compare the mean weight loss of three diets: A, B, and C. They collect data from\n",
    "50 participants who were randomly assigned to one of the diets. Conduct a one-way ANOVA using Python\n",
    "to determine if there are any significant differences between the mean weight loss of the three diets.\n",
    "Report the F-statistic and p-value, and interpret the results."
   ]
  },
  {
   "cell_type": "code",
   "execution_count": 6,
   "id": "d0fcf427",
   "metadata": {},
   "outputs": [
    {
     "ename": "SyntaxError",
     "evalue": "incomplete input (2153322337.py, line 4)",
     "output_type": "error",
     "traceback": [
      "\u001b[1;36m  Cell \u001b[1;32mIn[6], line 4\u001b[1;36m\u001b[0m\n\u001b[1;33m    diet_A = [5, 7, 6, 8, 9, 4,\u001b[0m\n\u001b[1;37m                                ^\u001b[0m\n\u001b[1;31mSyntaxError\u001b[0m\u001b[1;31m:\u001b[0m incomplete input\n"
     ]
    }
   ],
   "source": [
    "import scipy.stats as stats\n",
    "\n",
    "# Sample data (weight loss for each diet)\n",
    "diet_A = [5, 7, 6, 8, 9, 4, \n"
   ]
  },
  {
   "cell_type": "markdown",
   "id": "343520fb",
   "metadata": {},
   "source": [
    "Q10. A company wants to know if there are any significant differences in the average time it takes to\n",
    "complete a task using three different software programs: Program A, Program B, and Program C. They\n",
    "randomly assign 30 employees to one of the programs and record the time it takes each employee to\n",
    "complete the task. Conduct a two-way ANOVA using Python to determine if there are any main effects or\n",
    "interaction effects between the software programs and employee experience level (novice vs.\n",
    "experienced). Report the F-statistics and p-values, and interpret the results.\n"
   ]
  },
  {
   "cell_type": "markdown",
   "id": "0b8b19ee",
   "metadata": {},
   "source": [
    "import pandas as pd\n",
    "import statsmodels.api as sm\n",
    "from statsmodels.formula.api import ols\n",
    "\n",
    "data = {\n",
    "    'time': [10, 12, 11, 9, 11, 13, 14, 12, 10, 11, 13, 12, 11, 13, 12, 10, 11, 9, 12, 11, 13, 14, 12, 10, 11, 13, 12, 11, 13, 12],\n",
    "    'program': ['A', 'A', 'A', 'A', 'A', 'A', 'A', 'A', 'A', 'A', 'B', 'B\n"
   ]
  },
  {
   "cell_type": "code",
   "execution_count": null,
   "id": "590f0d57",
   "metadata": {},
   "outputs": [],
   "source": [
    "Q11. An educational researcher is interested in whether a new teaching method improves student test\n",
    "scores. They randomly assign 100 students to either the control group (traditional teaching method) or the\n",
    "experimental group (new teaching method) and administer a test at the end of the semester. Conduct a\n",
    "two-sample t-test using Python to determine if there are any significant differences in test scores\n",
    "between the two groups. If the results are significant, follow up with a post-hoc test to determine which\n",
    "group(s) differ significantly from each other."
   ]
  },
  {
   "cell_type": "code",
   "execution_count": 8,
   "id": "44189dff",
   "metadata": {},
   "outputs": [
    {
     "name": "stdout",
     "output_type": "stream",
     "text": [
      "                              sum_sq    df           F        PR(>F)\n",
      "C(program)                733.877778   2.0  209.015823  3.129029e-14\n",
      "C(experience)                    NaN   1.0         NaN           NaN\n",
      "C(program):C(experience)    0.100000   2.0    0.028481  8.672409e-01\n",
      "Residual                   47.400000  27.0         NaN           NaN\n"
     ]
    },
    {
     "name": "stderr",
     "output_type": "stream",
     "text": [
      "C:\\Users\\baras\\anaconda3\\Lib\\site-packages\\statsmodels\\base\\model.py:1888: ValueWarning: covariance of constraints does not have full rank. The number of constraints is 2, but rank is 1\n",
      "  warnings.warn('covariance of constraints does not have full '\n",
      "C:\\Users\\baras\\anaconda3\\Lib\\site-packages\\statsmodels\\base\\model.py:1888: ValueWarning: covariance of constraints does not have full rank. The number of constraints is 1, but rank is 0\n",
      "  warnings.warn('covariance of constraints does not have full '\n",
      "C:\\Users\\baras\\anaconda3\\Lib\\site-packages\\statsmodels\\base\\model.py:1917: RuntimeWarning: invalid value encountered in divide\n",
      "  F /= J\n",
      "C:\\Users\\baras\\anaconda3\\Lib\\site-packages\\statsmodels\\base\\model.py:1888: ValueWarning: covariance of constraints does not have full rank. The number of constraints is 2, but rank is 1\n",
      "  warnings.warn('covariance of constraints does not have full '\n"
     ]
    }
   ],
   "source": [
    "import pandas as pd\n",
    "import statsmodels.api as sm\n",
    "from statsmodels.formula.api import ols\n",
    "\n",
    "# Sample data (time to complete task for each combination of software program and experience level)\n",
    "data = {\n",
    "    'time': [10, 12, 11, 9, 11, 13, 14, 12, 10, 11, 13, 12, 11, 13, 12, 10, 11, 9, 12, 11, 13, 14, 12, 10, 11, 13, 12, 11, 13, 12],\n",
    "    'program': ['A', 'A', 'A', 'A', 'A', 'A', 'A', 'A', 'A', 'A', 'B', 'B', 'B', 'B', 'B', 'B', 'B', 'B', 'B', 'B', 'C', 'C', 'C', 'C', 'C', 'C', 'C', 'C', 'C', 'C'],\n",
    "    'experience': ['novice', 'novice', 'novice', 'novice', 'novice', 'novice', 'novice', 'novice', 'novice', 'novice', 'novice', 'novice', 'novice', 'novice', 'novice', 'novice', 'novice', 'novice', 'novice', 'novice', 'experienced', 'experienced', 'experienced', 'experienced', 'experienced', 'experienced', 'experienced', 'experienced', 'experienced', 'experienced']\n",
    "}\n",
    "\n",
    "# Create DataFrame\n",
    "df = pd.DataFrame(data)\n",
    "\n",
    "# Fit the ANOVA model\n",
    "model = ols('time ~ C(program) * C(experience)', data=df).fit()\n",
    "\n",
    "# Perform ANOVA\n",
    "anova_table = sm.stats.anova_lm(model, typ=2)\n",
    "\n",
    "# Print results\n",
    "print(anova_table)\n"
   ]
  },
  {
   "cell_type": "markdown",
   "id": "4687cf33",
   "metadata": {},
   "source": [
    "Q12. A researcher wants to know if there are any significant differences in the average daily sales of three\n",
    "retail stores: Store A, Store B, and Store C. They randomly select 30 days and record the sales for each store\n",
    "on those days. Conduct a repeated measures ANOVA using Python to determine if there are any\n",
    "\n",
    "significant differences in sales between the three stores. If the results are significant, follow up with a post-\n",
    "hoc test to determine which store(s) differ significantly from each other."
   ]
  },
  {
   "cell_type": "code",
   "execution_count": 9,
   "id": "eae7185f",
   "metadata": {},
   "outputs": [
    {
     "ename": "SyntaxError",
     "evalue": "incomplete input (3433443369.py, line 10)",
     "output_type": "error",
     "traceback": [
      "\u001b[1;36m  Cell \u001b[1;32mIn[9], line 10\u001b[1;36m\u001b[0m\n\u001b[1;33m    95, 105, 110\u001b[0m\n\u001b[1;37m                ^\u001b[0m\n\u001b[1;31mSyntaxError\u001b[0m\u001b[1;31m:\u001b[0m incomplete input\n"
     ]
    }
   ],
   "source": [
    "import pandas as pd\n",
    "import statsmodels.api as sm\n",
    "from statsmodels.stats.anova import AnovaRM\n",
    "from statsmodels.stats.multicomp import pairwise_tukeyhsd\n",
    "\n",
    "data = {\n",
    "    'day': list(range(30)) * 3,\n",
    "    'store': ['Store A'] * 30 + ['Store B'] * 30 + ['Store C'] * 30,\n",
    "    'sales': [100, 110, 95, 105, 115, 100, 105, 110, 115, 120, 105, 110, 100, 115, 120, 125, 110, 115, 100, 105, 110, 115, 120, 125, 110, 115, 100, 105, 110, 115, \n",
    "              95, 105, 110\n"
   ]
  },
  {
   "cell_type": "code",
   "execution_count": null,
   "id": "2a636ec4",
   "metadata": {},
   "outputs": [],
   "source": []
  }
 ],
 "metadata": {
  "kernelspec": {
   "display_name": "Python 3 (ipykernel)",
   "language": "python",
   "name": "python3"
  },
  "language_info": {
   "codemirror_mode": {
    "name": "ipython",
    "version": 3
   },
   "file_extension": ".py",
   "mimetype": "text/x-python",
   "name": "python",
   "nbconvert_exporter": "python",
   "pygments_lexer": "ipython3",
   "version": "3.11.5"
  }
 },
 "nbformat": 4,
 "nbformat_minor": 5
}
