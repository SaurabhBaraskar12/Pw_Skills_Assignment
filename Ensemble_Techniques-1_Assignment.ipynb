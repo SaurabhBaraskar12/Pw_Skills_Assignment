{
 "cells": [
  {
   "cell_type": "markdown",
   "id": "8c43ee35",
   "metadata": {},
   "source": [
    "# Ensemble Techniques Assignment"
   ]
  },
  {
   "cell_type": "markdown",
   "id": "9a4c300a",
   "metadata": {},
   "source": [
    "Q1. What is an ensemble technique in machine learning?"
   ]
  },
  {
   "cell_type": "markdown",
   "id": "de8567d2",
   "metadata": {},
   "source": [
    "\n",
    "Ensemble techniques combine predictions from multiple models for improved accuracy and robustness in machine learning. It's like consulting multiple experts for a better outcome."
   ]
  },
  {
   "cell_type": "markdown",
   "id": "b23fa029",
   "metadata": {},
   "source": [
    "Q2. Why are ensemble techniques used in machine learning?"
   ]
  },
  {
   "cell_type": "markdown",
   "id": "29e70802",
   "metadata": {},
   "source": [
    "Show drafts\n",
    "\n",
    "\n",
    "\n",
    "Ensemble techniques aim to boost accuracy and stability in machine learning. They do this by combining predictions from multiple models, like getting advice from several experts for a better outcome."
   ]
  },
  {
   "cell_type": "markdown",
   "id": "72dc0a58",
   "metadata": {},
   "source": [
    "Q3. What is bagging?"
   ]
  },
  {
   "cell_type": "markdown",
   "id": "1c522398",
   "metadata": {},
   "source": [
    "Bagging, or bootstrap aggregating, is an ensemble technique that improves a model's stability by reducing its variance. Here's the short answer:\n",
    "\n",
    "Trains multiple models on different subsets of the data (with replacement).\n",
    "Averages the predictions from these models for a final prediction.\n",
    "Reduces variance and helps avoid overfitting on noisy data."
   ]
  },
  {
   "cell_type": "markdown",
   "id": "07bf31ac",
   "metadata": {},
   "source": [
    "Q4. What is boosting?"
   ]
  },
  {
   "cell_type": "markdown",
   "id": "e7d85c81",
   "metadata": {},
   "source": [
    "Show drafts\n",
    "\n",
    "\n",
    "\n",
    "Boosting is another ensemble technique that focuses on improving a model's accuracy by reducing its bias. Here's a quick explanation:\n",
    "\n",
    "Trains models sequentially, where each model tries to correct the errors of the previous one.\n",
    "Focuses on data points that the prior models struggled with.\n",
    "Builds a stronger final model by combining the predictions strategically."
   ]
  },
  {
   "cell_type": "markdown",
   "id": "3e48cb49",
   "metadata": {},
   "source": [
    "Q5. What are the benefits of using ensemble techniques?"
   ]
  },
  {
   "cell_type": "markdown",
   "id": "03091718",
   "metadata": {},
   "source": [
    "Better Accuracy: Combining predictions often leads to more accurate results.\n",
    "More Stability: Averaging predictions reduces reliance on any single model, making the final model more robust.\n",
    "Less Overfitting: Ensembles are less likely to overfit on noisy data."
   ]
  },
  {
   "cell_type": "markdown",
   "id": "08a22cd4",
   "metadata": {},
   "source": [
    "Q6. Are ensemble techniques always better than individual models?"
   ]
  },
  {
   "cell_type": "markdown",
   "id": "7cfdfe29",
   "metadata": {},
   "source": [
    "\n",
    "Ensembles aren't a silver bullet. While they often improve accuracy and stability, they can be more complex and computationally expensive than single models. Their advantage depends on the data and the quality of the single models used."
   ]
  },
  {
   "cell_type": "markdown",
   "id": "3a4920c0",
   "metadata": {},
   "source": [
    "Q7. How is the confidence interval calculated using bootstrap?"
   ]
  },
  {
   "cell_type": "markdown",
   "id": "c21e12a9",
   "metadata": {},
   "source": [
    "Sample with replacement from your data (like drawing balls with replacement).\n",
    "Repeat (many times) and calculate your statistic (e.g., mean) on each sample.\n",
    "This creates a distribution of the statistic.\n",
    "Use percentiles of this distribution to define the confidence interval."
   ]
  },
  {
   "cell_type": "markdown",
   "id": "5bfb2182",
   "metadata": {},
   "source": [
    "Q8. How does bootstrap work and What are the steps involved in bootstrap?"
   ]
  },
  {
   "cell_type": "markdown",
   "id": "c68a65a2",
   "metadata": {},
   "source": [
    "Sample with Replacement:\n",
    "Calculate Statistic:  \n",
    "\n",
    "Distribution of the Statistic:\n",
    "\n",
    "Confidence Interval:"
   ]
  },
  {
   "cell_type": "markdown",
   "id": "6ce332fa",
   "metadata": {},
   "source": [
    "Q9. A researcher wants to estimate the mean height of a population of trees. They measure the height of a\n",
    "sample of 50 trees and obtain a mean height of 15 meters and a standard deviation of 2 meters. Use\n",
    "bootstrap to estimate the 95% confidence interval for the population mean height."
   ]
  },
  {
   "cell_type": "markdown",
   "id": "e19a75a8",
   "metadata": {},
   "source": [
    "Bootstrap creates new datasets by sampling with replacement from your original data (like mimicking re-measuring the same 50 trees).\n",
    "It calculates the mean height for each new dataset, creating a distribution of means.\n",
    "The 2.5th and 97.5th percentiles of this distribution define the lower and upper bounds of your 95% confidence interval for the true population mean height."
   ]
  }
 ],
 "metadata": {
  "kernelspec": {
   "display_name": "Python 3 (ipykernel)",
   "language": "python",
   "name": "python3"
  },
  "language_info": {
   "codemirror_mode": {
    "name": "ipython",
    "version": 3
   },
   "file_extension": ".py",
   "mimetype": "text/x-python",
   "name": "python",
   "nbconvert_exporter": "python",
   "pygments_lexer": "ipython3",
   "version": "3.11.5"
  }
 },
 "nbformat": 4,
 "nbformat_minor": 5
}
