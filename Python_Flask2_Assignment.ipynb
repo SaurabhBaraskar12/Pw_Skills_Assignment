{
 "cells": [
  {
   "cell_type": "markdown",
   "id": "f9511bd1",
   "metadata": {},
   "source": [
    "# Flask2 Assignment"
   ]
  },
  {
   "cell_type": "markdown",
   "id": "9ca106dc",
   "metadata": {},
   "source": [
    "Q1. Explain GET and POST methods."
   ]
  },
  {
   "cell_type": "markdown",
   "id": "d8178aea",
   "metadata": {},
   "source": [
    "\n",
    "GET: Data sent in URL, limited size, visible. Used for retrieving data.\n",
    "\n",
    "POST: Data sent in request body, no size limit, not visible. Used for submitting data."
   ]
  },
  {
   "cell_type": "markdown",
   "id": "9f37e856",
   "metadata": {},
   "source": [
    "Q2. Why is request used in Flask?"
   ]
  },
  {
   "cell_type": "markdown",
   "id": "ddfd9c57",
   "metadata": {},
   "source": [
    "\n",
    "request in Flask is used to access incoming request data such as form data, query parameters, cookies, and file uploads. It allows Flask applications to handle data sent by clients (e.g., web browsers) in HTTP requests. This data can then be processed and used to generate responses or perform actions within the application."
   ]
  },
  {
   "cell_type": "markdown",
   "id": "df854162",
   "metadata": {},
   "source": [
    "Q3. Why is redirect() used in Flask?"
   ]
  },
  {
   "cell_type": "markdown",
   "id": "a07aa306",
   "metadata": {},
   "source": [
    "redirect() in Flask is used to redirect the client (e.g., web browser) to a different URL. It is commonly used to redirect users after they have submitted a form or completed an action, such as after successfully logging in or posting a comment."
   ]
  },
  {
   "cell_type": "code",
   "execution_count": 3,
   "id": "91f3208e",
   "metadata": {},
   "outputs": [
    {
     "name": "stdout",
     "output_type": "stream",
     "text": [
      "Object `used` not found.\n"
     ]
    }
   ],
   "source": [
    "Q4. What are templates in Flask? Why is the render_template() function used?"
   ]
  },
  {
   "cell_type": "markdown",
   "id": "9ae63501",
   "metadata": {},
   "source": [
    "Templates in Flask are HTML files with placeholders for dynamic content. render_template() renders these templates with data, separating logic from presentation."
   ]
  },
  {
   "cell_type": "markdown",
   "id": "11001dc3",
   "metadata": {},
   "source": [
    "Q5. Create a simple API. Use Postman to test it. Attach the screenshot of the output in the Jupyter Notebook."
   ]
  },
  {
   "cell_type": "code",
   "execution_count": 4,
   "id": "279263d6",
   "metadata": {},
   "outputs": [
    {
     "name": "stdout",
     "output_type": "stream",
     "text": [
      " * Serving Flask app '__main__'\n",
      " * Debug mode: on\n"
     ]
    },
    {
     "name": "stderr",
     "output_type": "stream",
     "text": [
      "WARNING: This is a development server. Do not use it in a production deployment. Use a production WSGI server instead.\n",
      " * Running on http://127.0.0.1:5000\n",
      "Press CTRL+C to quit\n",
      " * Restarting with watchdog (windowsapi)\n"
     ]
    },
    {
     "ename": "SystemExit",
     "evalue": "1",
     "output_type": "error",
     "traceback": [
      "An exception has occurred, use %tb to see the full traceback.\n",
      "\u001b[1;31mSystemExit\u001b[0m\u001b[1;31m:\u001b[0m 1\n"
     ]
    },
    {
     "name": "stderr",
     "output_type": "stream",
     "text": [
      "C:\\Users\\baras\\anaconda3\\Lib\\site-packages\\IPython\\core\\interactiveshell.py:3534: UserWarning: To exit: use 'exit', 'quit', or Ctrl-D.\n",
      "  warn(\"To exit: use 'exit', 'quit', or Ctrl-D.\", stacklevel=1)\n"
     ]
    }
   ],
   "source": [
    "from flask import Flask, jsonify\n",
    "\n",
    "app = Flask(__name__)\n",
    "\n",
    "@app.route('/api', methods=['GET'])\n",
    "def get_data():\n",
    "    # Sample data to return\n",
    "    data = {'message': 'This is a simple API'}\n",
    "\n",
    "    return jsonify(data)\n",
    "\n",
    "if __name__ == '__main__':\n",
    "    app.run(debug=True)\n"
   ]
  },
  {
   "cell_type": "code",
   "execution_count": null,
   "id": "04fc52be",
   "metadata": {},
   "outputs": [],
   "source": []
  }
 ],
 "metadata": {
  "kernelspec": {
   "display_name": "Python 3 (ipykernel)",
   "language": "python",
   "name": "python3"
  },
  "language_info": {
   "codemirror_mode": {
    "name": "ipython",
    "version": 3
   },
   "file_extension": ".py",
   "mimetype": "text/x-python",
   "name": "python",
   "nbconvert_exporter": "python",
   "pygments_lexer": "ipython3",
   "version": "3.11.5"
  }
 },
 "nbformat": 4,
 "nbformat_minor": 5
}
