{
 "cells": [
  {
   "cell_type": "markdown",
   "id": "be2fb2ef",
   "metadata": {},
   "source": [
    "# Multiprocessing Assignment"
   ]
  },
  {
   "cell_type": "code",
   "execution_count": null,
   "id": "8c9c3a23",
   "metadata": {},
   "outputs": [],
   "source": [
    "Q1. What is multiprocessing in python? Why is it useful?"
   ]
  },
  {
   "cell_type": "markdown",
   "id": "4298ffdd",
   "metadata": {},
   "source": [
    "Multiprocessing in Python means running multiple tasks at once, using different parts of your computer's brain (CPU cores). It's useful because it speeds up tasks by doing them simultaneously, makes better use of your computer's power, and keeps things running smoothly even if one task messes up."
   ]
  },
  {
   "cell_type": "markdown",
   "id": "6217fdab",
   "metadata": {},
   "source": [
    "Q2. What are the differences between multiprocessing and multithreading?"
   ]
  },
  {
   "cell_type": "markdown",
   "id": "ba09289b",
   "metadata": {},
   "source": [
    "Multiprocessing runs separate processes, each with its own memory space. It's good for CPU-bound tasks and ensures isolation but has higher resource overhead.\n",
    "Multithreading runs multiple threads within the same process, sharing memory. It's suitable for I/O-bound tasks and has lower resource overhead but can lead to concurrency issues like race conditions."
   ]
  },
  {
   "cell_type": "markdown",
   "id": "d06b66dd",
   "metadata": {},
   "source": [
    "Q3. Write a python code to create a process using the multiprocessing module."
   ]
  },
  {
   "cell_type": "code",
   "execution_count": 3,
   "id": "11ca4d7b",
   "metadata": {},
   "outputs": [
    {
     "name": "stdout",
     "output_type": "stream",
     "text": [
      "Main process ID: 7156\n"
     ]
    }
   ],
   "source": [
    "import multiprocessing\n",
    "import os\n",
    "\n",
    "def worker():\n",
    "    print(\"Worker process ID:\", os.getpid())\n",
    "\n",
    "if __name__ == \"__main__\":\n",
    "    process = multiprocessing.Process(target=worker)\n",
    "\n",
    "    process.start()\n",
    "\n",
    "    process.join()\n",
    "\n",
    "    print(\"Main process ID:\", os.getpid())\n"
   ]
  },
  {
   "cell_type": "markdown",
   "id": "404745de",
   "metadata": {},
   "source": [
    "Q4. What is a multiprocessing pool in python? Why is it used?"
   ]
  },
  {
   "cell_type": "markdown",
   "id": "344a3d48",
   "metadata": {},
   "source": [
    "A multiprocessing pool in Python manages a group of worker processes to execute functions in parallel across multiple input values. It's used for efficient parallel execution, resource management, and simplified parallelism in Python code."
   ]
  },
  {
   "cell_type": "markdown",
   "id": "050e9c66",
   "metadata": {},
   "source": [
    "Q5. How can we create a pool of worker processes in python using the multiprocessing module?"
   ]
  },
  {
   "cell_type": "code",
   "execution_count": null,
   "id": "6808b394",
   "metadata": {},
   "outputs": [],
   "source": [
    "import multiprocessing\n",
    "\n",
    "def worker_function(x):\n",
    "    return x * x\n",
    "\n",
    "if __name__ == \"__main__\":\n",
    "    # Create a multiprocessing Pool with 4 worker processes\n",
    "    with multiprocessing.Pool(processes=4) as pool:\n",
    "        # Define a list of input values\n",
    "        inputs = [1, 2, 3, 4, 5]\n",
    "\n",
    "        results = pool.map(worker_function, inputs)\n",
    "\n",
    "    # Print the results\n",
    "    print(\"Results:\", results)\n"
   ]
  },
  {
   "cell_type": "markdown",
   "id": "a5ec61c6",
   "metadata": {},
   "source": [
    "Q6. Write a python program to create 4 processes, each process should print a different number using the\n",
    "multiprocessing module in python."
   ]
  },
  {
   "cell_type": "code",
   "execution_count": null,
   "id": "f8ffcd6c",
   "metadata": {},
   "outputs": [],
   "source": [
    "import multiprocessing\n",
    "\n",
    "# Define a function to print a number\n",
    "def print_number(num):\n",
    "    print(\"Process ID:\", multiprocessing.current_process().pid, \"- Number:\", num)\n",
    "\n",
    "if __name__ == \"__main__\":\n",
    "    # Create a list of numbers\n",
    "    numbers = [1, 2, 3, 4]\n",
    "\n",
    "    # Create and start a process for each number\n",
    "    processes = []\n",
    "    for num in numbers:\n",
    "        process = multiprocessing.Process(target=print_number, args=(num,))\n",
    "        processes.append(process)\n",
    "        process.start()\n",
    "\n",
    "    # Wait for all processes to finish\n",
    "    for process in processes:\n",
    "        process.join()\n"
   ]
  },
  {
   "cell_type": "code",
   "execution_count": null,
   "id": "01c81467",
   "metadata": {},
   "outputs": [],
   "source": []
  }
 ],
 "metadata": {
  "kernelspec": {
   "display_name": "Python 3 (ipykernel)",
   "language": "python",
   "name": "python3"
  },
  "language_info": {
   "codemirror_mode": {
    "name": "ipython",
    "version": 3
   },
   "file_extension": ".py",
   "mimetype": "text/x-python",
   "name": "python",
   "nbconvert_exporter": "python",
   "pygments_lexer": "ipython3",
   "version": "3.11.5"
  }
 },
 "nbformat": 4,
 "nbformat_minor": 5
}
